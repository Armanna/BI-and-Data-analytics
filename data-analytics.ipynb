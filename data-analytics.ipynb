{
 "cells": [
  {
   "cell_type": "markdown",
   "id": "0f09a209",
   "metadata": {
    "papermill": {
     "duration": 0.033132,
     "end_time": "2022-05-23T15:34:14.158110",
     "exception": false,
     "start_time": "2022-05-23T15:34:14.124978",
     "status": "completed"
    },
    "tags": []
   },
   "source": [
    "# BI and Data analytics"
   ]
  },
  {
   "cell_type": "markdown",
   "id": "f4e1968d",
   "metadata": {
    "papermill": {
     "duration": 0.033152,
     "end_time": "2022-05-23T15:34:14.227086",
     "exception": false,
     "start_time": "2022-05-23T15:34:14.193934",
     "status": "completed"
    },
    "tags": []
   },
   "source": [
    "## Importing packages"
   ]
  },
  {
   "cell_type": "code",
   "execution_count": 1,
   "id": "d1106497",
   "metadata": {
    "execution": {
     "iopub.execute_input": "2022-05-23T15:34:14.308948Z",
     "iopub.status.busy": "2022-05-23T15:34:14.308390Z",
     "iopub.status.idle": "2022-05-23T15:34:14.319451Z",
     "shell.execute_reply": "2022-05-23T15:34:14.318293Z"
    },
    "papermill": {
     "duration": 0.051783,
     "end_time": "2022-05-23T15:34:14.322361",
     "exception": false,
     "start_time": "2022-05-23T15:34:14.270578",
     "status": "completed"
    },
    "tags": []
   },
   "outputs": [],
   "source": [
    "from google.cloud import bigquery\n",
    "import pandas as pd\n",
    "import os"
   ]
  },
  {
   "cell_type": "markdown",
   "id": "b207f1bc",
   "metadata": {
    "papermill": {
     "duration": 0.034247,
     "end_time": "2022-05-23T15:34:14.393334",
     "exception": false,
     "start_time": "2022-05-23T15:34:14.359087",
     "status": "completed"
    },
    "tags": []
   },
   "source": [
    "## Tasks"
   ]
  },
  {
   "cell_type": "code",
   "execution_count": 2,
   "id": "6b966a43",
   "metadata": {
    "execution": {
     "iopub.execute_input": "2022-05-23T15:34:14.465853Z",
     "iopub.status.busy": "2022-05-23T15:34:14.465187Z",
     "iopub.status.idle": "2022-05-23T15:34:14.469239Z",
     "shell.execute_reply": "2022-05-23T15:34:14.468602Z"
    },
    "papermill": {
     "duration": 0.043021,
     "end_time": "2022-05-23T15:34:14.471413",
     "exception": false,
     "start_time": "2022-05-23T15:34:14.428392",
     "status": "completed"
    },
    "tags": []
   },
   "outputs": [],
   "source": [
    "os.environ[\"GOOGLE_APPLICATION_CREDENTIALS\"]=\"/home/arman/Downloads/bi-and-data-analytics-task-e40f630391cf.json\""
   ]
  },
  {
   "cell_type": "code",
   "execution_count": 3,
   "id": "be5c8ec2",
   "metadata": {
    "execution": {
     "iopub.execute_input": "2022-05-23T15:34:14.543316Z",
     "iopub.status.busy": "2022-05-23T15:34:14.542872Z",
     "iopub.status.idle": "2022-05-23T15:34:14.548134Z",
     "shell.execute_reply": "2022-05-23T15:34:14.547515Z"
    },
    "papermill": {
     "duration": 0.043854,
     "end_time": "2022-05-23T15:34:14.550315",
     "exception": false,
     "start_time": "2022-05-23T15:34:14.506461",
     "status": "completed"
    },
    "tags": []
   },
   "outputs": [
    {
     "name": "stdout",
     "output_type": "stream",
     "text": [
      "Using Kaggle's public dataset BigQuery integration.\n"
     ]
    }
   ],
   "source": [
    "client = bigquery.Client()"
   ]
  },
  {
   "cell_type": "markdown",
   "id": "e1c18160",
   "metadata": {
    "papermill": {
     "duration": 0.03537,
     "end_time": "2022-05-23T15:34:14.619553",
     "exception": false,
     "start_time": "2022-05-23T15:34:14.584183",
     "status": "completed"
    },
    "tags": []
   },
   "source": [
    "### For <span style=\"color:GREEN\">TIME</span> and <span style=\"color:GREEN\">SPACE COMPLEXITY</span> I use <span style=\"color:GREEN\">LIMIT 10</span> in some querries."
   ]
  },
  {
   "cell_type": "markdown",
   "id": "4546e418",
   "metadata": {
    "papermill": {
     "duration": 0.035223,
     "end_time": "2022-05-23T15:34:14.690687",
     "exception": false,
     "start_time": "2022-05-23T15:34:14.655464",
     "status": "completed"
    },
    "tags": []
   },
   "source": [
    "### <span style=\"color:red\">1. transactions sent</span>"
   ]
  },
  {
   "cell_type": "code",
   "execution_count": 4,
   "id": "383bf938",
   "metadata": {
    "execution": {
     "iopub.execute_input": "2022-05-23T15:34:14.763938Z",
     "iopub.status.busy": "2022-05-23T15:34:14.762926Z",
     "iopub.status.idle": "2022-05-23T15:34:20.300558Z",
     "shell.execute_reply": "2022-05-23T15:34:20.299304Z"
    },
    "papermill": {
     "duration": 5.579159,
     "end_time": "2022-05-23T15:34:20.304860",
     "exception": false,
     "start_time": "2022-05-23T15:34:14.725701",
     "status": "completed"
    },
    "tags": []
   },
   "outputs": [
    {
     "data": {
      "text/html": [
       "<div>\n",
       "<style scoped>\n",
       "    .dataframe tbody tr th:only-of-type {\n",
       "        vertical-align: middle;\n",
       "    }\n",
       "\n",
       "    .dataframe tbody tr th {\n",
       "        vertical-align: top;\n",
       "    }\n",
       "\n",
       "    .dataframe thead th {\n",
       "        text-align: right;\n",
       "    }\n",
       "</style>\n",
       "<table border=\"1\" class=\"dataframe\">\n",
       "  <thead>\n",
       "    <tr style=\"text-align: right;\">\n",
       "      <th></th>\n",
       "      <th>id</th>\n",
       "    </tr>\n",
       "  </thead>\n",
       "  <tbody>\n",
       "    <tr>\n",
       "      <th>0</th>\n",
       "      <td>0x6aff1f08c320d67a78327e9b1c58b4a1c1e86229754c...</td>\n",
       "    </tr>\n",
       "    <tr>\n",
       "      <th>1</th>\n",
       "      <td>0xca4bca59a02a6faa97a7ed2aa67217fdf9f4549cde15...</td>\n",
       "    </tr>\n",
       "    <tr>\n",
       "      <th>2</th>\n",
       "      <td>0x5e9cd3431c1a49fe52bdb7768bc17c7b6a84631619a9...</td>\n",
       "    </tr>\n",
       "    <tr>\n",
       "      <th>3</th>\n",
       "      <td>0x98a57c40f2626e79f498789df2a98c876207999df9b1...</td>\n",
       "    </tr>\n",
       "    <tr>\n",
       "      <th>4</th>\n",
       "      <td>0xb94441db3a97f36f8d4940128d80364aa607c2ded956...</td>\n",
       "    </tr>\n",
       "  </tbody>\n",
       "</table>\n",
       "</div>"
      ],
      "text/plain": [
       "                                                  id\n",
       "0  0x6aff1f08c320d67a78327e9b1c58b4a1c1e86229754c...\n",
       "1  0xca4bca59a02a6faa97a7ed2aa67217fdf9f4549cde15...\n",
       "2  0x5e9cd3431c1a49fe52bdb7768bc17c7b6a84631619a9...\n",
       "3  0x98a57c40f2626e79f498789df2a98c876207999df9b1...\n",
       "4  0xb94441db3a97f36f8d4940128d80364aa607c2ded956..."
      ]
     },
     "execution_count": 4,
     "metadata": {},
     "output_type": "execute_result"
    }
   ],
   "source": [
    "# All the transactions sent\n",
    "\n",
    "query_1_1 = \"\"\"\n",
    "select  `bigquery-public-data.crypto_ethereum.transactions`.hash as id\n",
    "from `bigquery-public-data.crypto_ethereum.transactions`\n",
    "where receipt_status is not null \n",
    "limit 10\n",
    "\"\"\"\n",
    "\n",
    "query_job = client.query(query_1_1)\n",
    "iterator = query_job.result(timeout=50)\n",
    "rows = list(iterator)\n",
    "df_1_1 = pd.DataFrame(data=[list(x.values()) for x in rows], columns=list(rows[0].keys()))\n",
    "df_1_1.head()"
   ]
  },
  {
   "cell_type": "code",
   "execution_count": 5,
   "id": "1786ebaf",
   "metadata": {
    "execution": {
     "iopub.execute_input": "2022-05-23T15:34:20.378080Z",
     "iopub.status.busy": "2022-05-23T15:34:20.376419Z",
     "iopub.status.idle": "2022-05-23T15:34:30.357334Z",
     "shell.execute_reply": "2022-05-23T15:34:30.356596Z"
    },
    "papermill": {
     "duration": 10.019804,
     "end_time": "2022-05-23T15:34:30.359571",
     "exception": false,
     "start_time": "2022-05-23T15:34:20.339767",
     "status": "completed"
    },
    "tags": []
   },
   "outputs": [
    {
     "data": {
      "text/html": [
       "<div>\n",
       "<style scoped>\n",
       "    .dataframe tbody tr th:only-of-type {\n",
       "        vertical-align: middle;\n",
       "    }\n",
       "\n",
       "    .dataframe tbody tr th {\n",
       "        vertical-align: top;\n",
       "    }\n",
       "\n",
       "    .dataframe thead th {\n",
       "        text-align: right;\n",
       "    }\n",
       "</style>\n",
       "<table border=\"1\" class=\"dataframe\">\n",
       "  <thead>\n",
       "    <tr style=\"text-align: right;\">\n",
       "      <th></th>\n",
       "      <th>count</th>\n",
       "    </tr>\n",
       "  </thead>\n",
       "  <tbody>\n",
       "    <tr>\n",
       "      <th>0</th>\n",
       "      <td>1515309582</td>\n",
       "    </tr>\n",
       "  </tbody>\n",
       "</table>\n",
       "</div>"
      ],
      "text/plain": [
       "        count\n",
       "0  1515309582"
      ]
     },
     "execution_count": 5,
     "metadata": {},
     "output_type": "execute_result"
    }
   ],
   "source": [
    "# The number of transactions sent\n",
    "\n",
    "query_1_2 = \"\"\"\n",
    "select  count(`bigquery-public-data.crypto_ethereum.transactions`.hash) as count\n",
    "from `bigquery-public-data.crypto_ethereum.transactions`\n",
    "where receipt_status is not null \n",
    "\"\"\"\n",
    "\n",
    "query_job = client.query(query_1_2)\n",
    "iterator = query_job.result(timeout=50)\n",
    "rows = list(iterator)\n",
    "df_1_2 = pd.DataFrame(data=[list(x.values()) for x in rows], columns=list(rows[0].keys()))\n",
    "df_1_2.head()"
   ]
  },
  {
   "cell_type": "markdown",
   "id": "d91b4f0c",
   "metadata": {
    "papermill": {
     "duration": 0.032401,
     "end_time": "2022-05-23T15:34:30.424419",
     "exception": false,
     "start_time": "2022-05-23T15:34:30.392018",
     "status": "completed"
    },
    "tags": []
   },
   "source": [
    "### <span style=\"color:red\">2. transactions recieved 3/ ETH sent</span>"
   ]
  },
  {
   "cell_type": "code",
   "execution_count": 6,
   "id": "b6349294",
   "metadata": {
    "execution": {
     "iopub.execute_input": "2022-05-23T15:34:30.495713Z",
     "iopub.status.busy": "2022-05-23T15:34:30.495053Z",
     "iopub.status.idle": "2022-05-23T15:34:36.397378Z",
     "shell.execute_reply": "2022-05-23T15:34:36.396458Z"
    },
    "papermill": {
     "duration": 5.941813,
     "end_time": "2022-05-23T15:34:36.399562",
     "exception": false,
     "start_time": "2022-05-23T15:34:30.457749",
     "status": "completed"
    },
    "tags": []
   },
   "outputs": [
    {
     "data": {
      "text/html": [
       "<div>\n",
       "<style scoped>\n",
       "    .dataframe tbody tr th:only-of-type {\n",
       "        vertical-align: middle;\n",
       "    }\n",
       "\n",
       "    .dataframe tbody tr th {\n",
       "        vertical-align: top;\n",
       "    }\n",
       "\n",
       "    .dataframe thead th {\n",
       "        text-align: right;\n",
       "    }\n",
       "</style>\n",
       "<table border=\"1\" class=\"dataframe\">\n",
       "  <thead>\n",
       "    <tr style=\"text-align: right;\">\n",
       "      <th></th>\n",
       "      <th>Id</th>\n",
       "    </tr>\n",
       "  </thead>\n",
       "  <tbody>\n",
       "    <tr>\n",
       "      <th>0</th>\n",
       "      <td>0x6aff1f08c320d67a78327e9b1c58b4a1c1e86229754c...</td>\n",
       "    </tr>\n",
       "    <tr>\n",
       "      <th>1</th>\n",
       "      <td>0xca4bca59a02a6faa97a7ed2aa67217fdf9f4549cde15...</td>\n",
       "    </tr>\n",
       "    <tr>\n",
       "      <th>2</th>\n",
       "      <td>0x5e9cd3431c1a49fe52bdb7768bc17c7b6a84631619a9...</td>\n",
       "    </tr>\n",
       "    <tr>\n",
       "      <th>3</th>\n",
       "      <td>0x98a57c40f2626e79f498789df2a98c876207999df9b1...</td>\n",
       "    </tr>\n",
       "    <tr>\n",
       "      <th>4</th>\n",
       "      <td>0x470a2abfc49c37d4752b021d16c291bb24dfed34904d...</td>\n",
       "    </tr>\n",
       "  </tbody>\n",
       "</table>\n",
       "</div>"
      ],
      "text/plain": [
       "                                                  Id\n",
       "0  0x6aff1f08c320d67a78327e9b1c58b4a1c1e86229754c...\n",
       "1  0xca4bca59a02a6faa97a7ed2aa67217fdf9f4549cde15...\n",
       "2  0x5e9cd3431c1a49fe52bdb7768bc17c7b6a84631619a9...\n",
       "3  0x98a57c40f2626e79f498789df2a98c876207999df9b1...\n",
       "4  0x470a2abfc49c37d4752b021d16c291bb24dfed34904d..."
      ]
     },
     "execution_count": 6,
     "metadata": {},
     "output_type": "execute_result"
    }
   ],
   "source": [
    "# All the transactions received\n",
    "\n",
    "query_2_1 = \"\"\"\n",
    "select `bigquery-public-data.crypto_ethereum.transactions`.hash as Id\n",
    "from  `bigquery-public-data.crypto_ethereum.transactions`\n",
    "where receipt_status = 1\n",
    "limit 10\n",
    "\"\"\"\n",
    "\n",
    "query_job = client.query(query_2_1)\n",
    "iterator = query_job.result(timeout=50)\n",
    "rows = list(iterator)\n",
    "df_2_1 = pd.DataFrame(data=[list(x.values()) for x in rows], columns=list(rows[0].keys()))\n",
    "df_2_1.head()"
   ]
  },
  {
   "cell_type": "code",
   "execution_count": 7,
   "id": "97e7916a",
   "metadata": {
    "execution": {
     "iopub.execute_input": "2022-05-23T15:34:36.468854Z",
     "iopub.status.busy": "2022-05-23T15:34:36.468556Z",
     "iopub.status.idle": "2022-05-23T15:34:44.498935Z",
     "shell.execute_reply": "2022-05-23T15:34:44.497918Z"
    },
    "papermill": {
     "duration": 8.068142,
     "end_time": "2022-05-23T15:34:44.501240",
     "exception": false,
     "start_time": "2022-05-23T15:34:36.433098",
     "status": "completed"
    },
    "tags": []
   },
   "outputs": [
    {
     "data": {
      "text/html": [
       "<div>\n",
       "<style scoped>\n",
       "    .dataframe tbody tr th:only-of-type {\n",
       "        vertical-align: middle;\n",
       "    }\n",
       "\n",
       "    .dataframe tbody tr th {\n",
       "        vertical-align: top;\n",
       "    }\n",
       "\n",
       "    .dataframe thead th {\n",
       "        text-align: right;\n",
       "    }\n",
       "</style>\n",
       "<table border=\"1\" class=\"dataframe\">\n",
       "  <thead>\n",
       "    <tr style=\"text-align: right;\">\n",
       "      <th></th>\n",
       "      <th>count</th>\n",
       "    </tr>\n",
       "  </thead>\n",
       "  <tbody>\n",
       "    <tr>\n",
       "      <th>0</th>\n",
       "      <td>1468554945</td>\n",
       "    </tr>\n",
       "  </tbody>\n",
       "</table>\n",
       "</div>"
      ],
      "text/plain": [
       "        count\n",
       "0  1468554945"
      ]
     },
     "execution_count": 7,
     "metadata": {},
     "output_type": "execute_result"
    }
   ],
   "source": [
    "# The number of transactions received\n",
    "\n",
    "query_2_2 = \"\"\"\n",
    "select count(`bigquery-public-data.crypto_ethereum.transactions`.hash) as count\n",
    "from  `bigquery-public-data.crypto_ethereum.transactions`\n",
    "where receipt_status = 1\n",
    "\"\"\"\n",
    "\n",
    "query_job = client.query(query_2_2)\n",
    "iterator = query_job.result(timeout=100)\n",
    "rows = list(iterator)\n",
    "df_2_2 = pd.DataFrame(data=[list(x.values()) for x in rows], columns=list(rows[0].keys()))\n",
    "df_2_2.head()"
   ]
  },
  {
   "cell_type": "code",
   "execution_count": 8,
   "id": "8c7b494a",
   "metadata": {
    "execution": {
     "iopub.execute_input": "2022-05-23T15:34:44.573324Z",
     "iopub.status.busy": "2022-05-23T15:34:44.573011Z",
     "iopub.status.idle": "2022-05-23T15:34:53.691883Z",
     "shell.execute_reply": "2022-05-23T15:34:53.691099Z"
    },
    "papermill": {
     "duration": 9.156099,
     "end_time": "2022-05-23T15:34:53.693942",
     "exception": false,
     "start_time": "2022-05-23T15:34:44.537843",
     "status": "completed"
    },
    "tags": []
   },
   "outputs": [
    {
     "data": {
      "text/html": [
       "<div>\n",
       "<style scoped>\n",
       "    .dataframe tbody tr th:only-of-type {\n",
       "        vertical-align: middle;\n",
       "    }\n",
       "\n",
       "    .dataframe tbody tr th {\n",
       "        vertical-align: top;\n",
       "    }\n",
       "\n",
       "    .dataframe thead th {\n",
       "        text-align: right;\n",
       "    }\n",
       "</style>\n",
       "<table border=\"1\" class=\"dataframe\">\n",
       "  <thead>\n",
       "    <tr style=\"text-align: right;\">\n",
       "      <th></th>\n",
       "      <th>ETH_value_sent</th>\n",
       "    </tr>\n",
       "  </thead>\n",
       "  <tbody>\n",
       "    <tr>\n",
       "      <th>0</th>\n",
       "      <td>5102482190.87</td>\n",
       "    </tr>\n",
       "  </tbody>\n",
       "</table>\n",
       "</div>"
      ],
      "text/plain": [
       "  ETH_value_sent\n",
       "0  5102482190.87"
      ]
     },
     "execution_count": 8,
     "metadata": {},
     "output_type": "execute_result"
    }
   ],
   "source": [
    "# Overall ETH sent\n",
    "\n",
    "query_2_3 = \"\"\"\n",
    "select sum(round((value/1000000000000000000),2)) as ETH_value_sent \n",
    "from  `bigquery-public-data.crypto_ethereum.transactions`\n",
    "where receipt_status is not null\n",
    "\"\"\"\n",
    "\n",
    "query_job = client.query(query_2_3)\n",
    "iterator = query_job.result(timeout=50)\n",
    "rows = list(iterator)\n",
    "df_2_3 = pd.DataFrame(data=[list(x.values()) for x in rows], columns=list(rows[0].keys()))\n",
    "df_2_3.head()"
   ]
  },
  {
   "cell_type": "markdown",
   "id": "dd2f0675",
   "metadata": {
    "papermill": {
     "duration": 0.037712,
     "end_time": "2022-05-23T15:34:53.765988",
     "exception": false,
     "start_time": "2022-05-23T15:34:53.728276",
     "status": "completed"
    },
    "tags": []
   },
   "source": [
    "### <span style=\"color:red\">3. ETH recieved</span>"
   ]
  },
  {
   "cell_type": "code",
   "execution_count": 9,
   "id": "25a385ee",
   "metadata": {
    "execution": {
     "iopub.execute_input": "2022-05-23T15:34:53.839363Z",
     "iopub.status.busy": "2022-05-23T15:34:53.838876Z",
     "iopub.status.idle": "2022-05-23T15:35:01.055918Z",
     "shell.execute_reply": "2022-05-23T15:35:01.054959Z"
    },
    "papermill": {
     "duration": 7.257618,
     "end_time": "2022-05-23T15:35:01.058229",
     "exception": false,
     "start_time": "2022-05-23T15:34:53.800611",
     "status": "completed"
    },
    "tags": []
   },
   "outputs": [
    {
     "data": {
      "text/html": [
       "<div>\n",
       "<style scoped>\n",
       "    .dataframe tbody tr th:only-of-type {\n",
       "        vertical-align: middle;\n",
       "    }\n",
       "\n",
       "    .dataframe tbody tr th {\n",
       "        vertical-align: top;\n",
       "    }\n",
       "\n",
       "    .dataframe thead th {\n",
       "        text-align: right;\n",
       "    }\n",
       "</style>\n",
       "<table border=\"1\" class=\"dataframe\">\n",
       "  <thead>\n",
       "    <tr style=\"text-align: right;\">\n",
       "      <th></th>\n",
       "      <th>ETH_value_received</th>\n",
       "    </tr>\n",
       "  </thead>\n",
       "  <tbody>\n",
       "    <tr>\n",
       "      <th>0</th>\n",
       "      <td>5062337989.72</td>\n",
       "    </tr>\n",
       "  </tbody>\n",
       "</table>\n",
       "</div>"
      ],
      "text/plain": [
       "  ETH_value_received\n",
       "0      5062337989.72"
      ]
     },
     "execution_count": 9,
     "metadata": {},
     "output_type": "execute_result"
    }
   ],
   "source": [
    "query_3 = \"\"\"\n",
    "select sum(round((value/1000000000000000000),2)) as ETH_value_received\n",
    "from  `bigquery-public-data.crypto_ethereum.transactions`\n",
    "where receipt_status = 1\n",
    "\"\"\"\n",
    "\n",
    "query_job = client.query(query_3)\n",
    "iterator = query_job.result(timeout=50)\n",
    "rows = list(iterator)\n",
    "df_3 = pd.DataFrame(data=[list(x.values()) for x in rows], columns=list(rows[0].keys()))\n",
    "df_3.head()"
   ]
  },
  {
   "cell_type": "markdown",
   "id": "d20bc574",
   "metadata": {
    "papermill": {
     "duration": 0.036565,
     "end_time": "2022-05-23T15:35:01.130573",
     "exception": false,
     "start_time": "2022-05-23T15:35:01.094008",
     "status": "completed"
    },
    "tags": []
   },
   "source": [
    "### <span style=\"color:red\">4. Average monthly transactions sent</span>"
   ]
  },
  {
   "cell_type": "code",
   "execution_count": 10,
   "id": "f8689e90",
   "metadata": {
    "execution": {
     "iopub.execute_input": "2022-05-23T15:35:01.204044Z",
     "iopub.status.busy": "2022-05-23T15:35:01.203753Z",
     "iopub.status.idle": "2022-05-23T15:35:15.220166Z",
     "shell.execute_reply": "2022-05-23T15:35:15.218963Z"
    },
    "papermill": {
     "duration": 14.056853,
     "end_time": "2022-05-23T15:35:15.222841",
     "exception": false,
     "start_time": "2022-05-23T15:35:01.165988",
     "status": "completed"
    },
    "tags": []
   },
   "outputs": [
    {
     "data": {
      "text/html": [
       "<div>\n",
       "<style scoped>\n",
       "    .dataframe tbody tr th:only-of-type {\n",
       "        vertical-align: middle;\n",
       "    }\n",
       "\n",
       "    .dataframe tbody tr th {\n",
       "        vertical-align: top;\n",
       "    }\n",
       "\n",
       "    .dataframe thead th {\n",
       "        text-align: right;\n",
       "    }\n",
       "</style>\n",
       "<table border=\"1\" class=\"dataframe\">\n",
       "  <thead>\n",
       "    <tr style=\"text-align: right;\">\n",
       "      <th></th>\n",
       "      <th>avg_monthly_trans_sent</th>\n",
       "    </tr>\n",
       "  </thead>\n",
       "  <tbody>\n",
       "    <tr>\n",
       "      <th>0</th>\n",
       "      <td>27059103.71</td>\n",
       "    </tr>\n",
       "  </tbody>\n",
       "</table>\n",
       "</div>"
      ],
      "text/plain": [
       "   avg_monthly_trans_sent\n",
       "0             27059103.71"
      ]
     },
     "execution_count": 10,
     "metadata": {},
     "output_type": "execute_result"
    }
   ],
   "source": [
    "query_4 = \"\"\"\n",
    "select round(avg(count_transactions_sent),2) as avg_monthly_trans_sent\n",
    "from\n",
    "(select count(`bigquery-public-data.crypto_ethereum.transactions`.hash) as count_transactions_sent, extract(year from block_timestamp) as year, extract(month from block_timestamp) as month\n",
    "from  `bigquery-public-data.crypto_ethereum.transactions`\n",
    "where receipt_status is not null\n",
    "group by extract(year from block_timestamp), extract(month from block_timestamp)) T\n",
    "\n",
    "\n",
    "\"\"\"\n",
    "\n",
    "query_job = client.query(query_4)\n",
    "iterator = query_job.result(timeout=50)\n",
    "rows = list(iterator)\n",
    "df_4 = pd.DataFrame(data=[list(x.values()) for x in rows], columns=list(rows[0].keys()))\n",
    "df_4.head()"
   ]
  },
  {
   "cell_type": "markdown",
   "id": "7da30d19",
   "metadata": {
    "papermill": {
     "duration": 0.036654,
     "end_time": "2022-05-23T15:35:15.298662",
     "exception": false,
     "start_time": "2022-05-23T15:35:15.262008",
     "status": "completed"
    },
    "tags": []
   },
   "source": [
    "### <span style=\"color:red\">5. Average monthly transactions recieved</span>"
   ]
  },
  {
   "cell_type": "code",
   "execution_count": 11,
   "id": "f282f0c4",
   "metadata": {
    "execution": {
     "iopub.execute_input": "2022-05-23T15:35:15.371372Z",
     "iopub.status.busy": "2022-05-23T15:35:15.370476Z",
     "iopub.status.idle": "2022-05-23T15:35:25.879741Z",
     "shell.execute_reply": "2022-05-23T15:35:25.878569Z"
    },
    "papermill": {
     "duration": 10.548774,
     "end_time": "2022-05-23T15:35:25.882484",
     "exception": false,
     "start_time": "2022-05-23T15:35:15.333710",
     "status": "completed"
    },
    "tags": []
   },
   "outputs": [
    {
     "data": {
      "text/html": [
       "<div>\n",
       "<style scoped>\n",
       "    .dataframe tbody tr th:only-of-type {\n",
       "        vertical-align: middle;\n",
       "    }\n",
       "\n",
       "    .dataframe tbody tr th {\n",
       "        vertical-align: top;\n",
       "    }\n",
       "\n",
       "    .dataframe thead th {\n",
       "        text-align: right;\n",
       "    }\n",
       "</style>\n",
       "<table border=\"1\" class=\"dataframe\">\n",
       "  <thead>\n",
       "    <tr style=\"text-align: right;\">\n",
       "      <th></th>\n",
       "      <th>avg_monthly_trans_received</th>\n",
       "    </tr>\n",
       "  </thead>\n",
       "  <tbody>\n",
       "    <tr>\n",
       "      <th>0</th>\n",
       "      <td>26224202.32</td>\n",
       "    </tr>\n",
       "  </tbody>\n",
       "</table>\n",
       "</div>"
      ],
      "text/plain": [
       "   avg_monthly_trans_received\n",
       "0                 26224202.32"
      ]
     },
     "execution_count": 11,
     "metadata": {},
     "output_type": "execute_result"
    }
   ],
   "source": [
    "query_5 = \"\"\"\n",
    "select round(avg(count_transactions_received),2) as avg_monthly_trans_received\n",
    "from\n",
    "(select count(`bigquery-public-data.crypto_ethereum.transactions`.hash) as count_transactions_received, extract(year from block_timestamp) as year, extract(month from block_timestamp) as month\n",
    "from  `bigquery-public-data.crypto_ethereum.transactions`\n",
    "where receipt_status = 1\n",
    "group by extract(year from block_timestamp), extract(month from block_timestamp)) T\n",
    "\n",
    "\n",
    "\"\"\"\n",
    "\n",
    "query_job = client.query(query_5)\n",
    "iterator = query_job.result(timeout=50)\n",
    "rows = list(iterator)\n",
    "df_5 = pd.DataFrame(data=[list(x.values()) for x in rows], columns=list(rows[0].keys()))\n",
    "df_5.head()"
   ]
  },
  {
   "cell_type": "markdown",
   "id": "4aadfc9a",
   "metadata": {
    "papermill": {
     "duration": 0.035126,
     "end_time": "2022-05-23T15:35:25.954397",
     "exception": false,
     "start_time": "2022-05-23T15:35:25.919271",
     "status": "completed"
    },
    "tags": []
   },
   "source": [
    "### <span style=\"color:red\">6. Average monthly ETH sent</span>"
   ]
  },
  {
   "cell_type": "code",
   "execution_count": 12,
   "id": "d2c11191",
   "metadata": {
    "execution": {
     "iopub.execute_input": "2022-05-23T15:35:26.031836Z",
     "iopub.status.busy": "2022-05-23T15:35:26.031468Z",
     "iopub.status.idle": "2022-05-23T15:35:36.014507Z",
     "shell.execute_reply": "2022-05-23T15:35:36.013395Z"
    },
    "papermill": {
     "duration": 10.025778,
     "end_time": "2022-05-23T15:35:36.016926",
     "exception": false,
     "start_time": "2022-05-23T15:35:25.991148",
     "status": "completed"
    },
    "tags": []
   },
   "outputs": [
    {
     "data": {
      "text/html": [
       "<div>\n",
       "<style scoped>\n",
       "    .dataframe tbody tr th:only-of-type {\n",
       "        vertical-align: middle;\n",
       "    }\n",
       "\n",
       "    .dataframe tbody tr th {\n",
       "        vertical-align: top;\n",
       "    }\n",
       "\n",
       "    .dataframe thead th {\n",
       "        text-align: right;\n",
       "    }\n",
       "</style>\n",
       "<table border=\"1\" class=\"dataframe\">\n",
       "  <thead>\n",
       "    <tr style=\"text-align: right;\">\n",
       "      <th></th>\n",
       "      <th>avg_monthly_ETH_sent</th>\n",
       "    </tr>\n",
       "  </thead>\n",
       "  <tbody>\n",
       "    <tr>\n",
       "      <th>0</th>\n",
       "      <td>91115755.3</td>\n",
       "    </tr>\n",
       "  </tbody>\n",
       "</table>\n",
       "</div>"
      ],
      "text/plain": [
       "  avg_monthly_ETH_sent\n",
       "0           91115755.3"
      ]
     },
     "execution_count": 12,
     "metadata": {},
     "output_type": "execute_result"
    }
   ],
   "source": [
    "query_6 = \"\"\"\n",
    "select round(avg(sum_ETH_sent),2) as avg_monthly_ETH_sent\n",
    "from\n",
    "(select sum(round((value/1000000000000000000),2)) as sum_ETH_sent, extract(year from block_timestamp) as year, extract(month from block_timestamp) as month\n",
    "from  `bigquery-public-data.crypto_ethereum.transactions`\n",
    "where receipt_status is not null\n",
    "group by extract(year from block_timestamp), extract(month from block_timestamp)) T\n",
    "\n",
    "\"\"\"\n",
    "\n",
    "query_job = client.query(query_6)\n",
    "iterator = query_job.result(timeout=50)\n",
    "rows = list(iterator)\n",
    "df_6 = pd.DataFrame(data=[list(x.values()) for x in rows], columns=list(rows[0].keys()))\n",
    "df_6.head()"
   ]
  },
  {
   "cell_type": "markdown",
   "id": "3d3fb546",
   "metadata": {
    "papermill": {
     "duration": 0.036738,
     "end_time": "2022-05-23T15:35:36.092386",
     "exception": false,
     "start_time": "2022-05-23T15:35:36.055648",
     "status": "completed"
    },
    "tags": []
   },
   "source": [
    "### <span style=\"color:red\">7. Average monthly ETH received</span>"
   ]
  },
  {
   "cell_type": "code",
   "execution_count": 13,
   "id": "6965efd6",
   "metadata": {
    "execution": {
     "iopub.execute_input": "2022-05-23T15:35:36.167341Z",
     "iopub.status.busy": "2022-05-23T15:35:36.167001Z",
     "iopub.status.idle": "2022-05-23T15:35:45.042059Z",
     "shell.execute_reply": "2022-05-23T15:35:45.041178Z"
    },
    "papermill": {
     "duration": 8.916523,
     "end_time": "2022-05-23T15:35:45.044194",
     "exception": false,
     "start_time": "2022-05-23T15:35:36.127671",
     "status": "completed"
    },
    "tags": []
   },
   "outputs": [
    {
     "data": {
      "text/html": [
       "<div>\n",
       "<style scoped>\n",
       "    .dataframe tbody tr th:only-of-type {\n",
       "        vertical-align: middle;\n",
       "    }\n",
       "\n",
       "    .dataframe tbody tr th {\n",
       "        vertical-align: top;\n",
       "    }\n",
       "\n",
       "    .dataframe thead th {\n",
       "        text-align: right;\n",
       "    }\n",
       "</style>\n",
       "<table border=\"1\" class=\"dataframe\">\n",
       "  <thead>\n",
       "    <tr style=\"text-align: right;\">\n",
       "      <th></th>\n",
       "      <th>avg_monthly_ETH_received</th>\n",
       "    </tr>\n",
       "  </thead>\n",
       "  <tbody>\n",
       "    <tr>\n",
       "      <th>0</th>\n",
       "      <td>90398893.12</td>\n",
       "    </tr>\n",
       "  </tbody>\n",
       "</table>\n",
       "</div>"
      ],
      "text/plain": [
       "  avg_monthly_ETH_received\n",
       "0              90398893.12"
      ]
     },
     "execution_count": 13,
     "metadata": {},
     "output_type": "execute_result"
    }
   ],
   "source": [
    "query_7 = \"\"\"\n",
    "select round(avg(sum_ETH_received),2) as avg_monthly_ETH_received\n",
    "from\n",
    "(select sum(round((value/1000000000000000000),2)) as sum_ETH_received, extract(year from block_timestamp) as year, extract(month from block_timestamp) as month\n",
    "from  `bigquery-public-data.crypto_ethereum.transactions`\n",
    "where receipt_status = 1\n",
    "group by extract(year from block_timestamp), extract(month from block_timestamp)) T\n",
    "\n",
    "\"\"\"\n",
    "\n",
    "query_job = client.query(query_7)\n",
    "iterator = query_job.result(timeout=50)\n",
    "rows = list(iterator)\n",
    "df_7 = pd.DataFrame(data=[list(x.values()) for x in rows], columns=list(rows[0].keys()))\n",
    "df_7.head()"
   ]
  },
  {
   "cell_type": "markdown",
   "id": "f89876e3",
   "metadata": {
    "papermill": {
     "duration": 0.038435,
     "end_time": "2022-05-23T15:35:45.119804",
     "exception": false,
     "start_time": "2022-05-23T15:35:45.081369",
     "status": "completed"
    },
    "tags": []
   },
   "source": [
    "### <span style=\"color:red\">8. Average time between transactions sent</span>"
   ]
  },
  {
   "cell_type": "code",
   "execution_count": 14,
   "id": "22120396",
   "metadata": {
    "execution": {
     "iopub.execute_input": "2022-05-23T15:35:45.199693Z",
     "iopub.status.busy": "2022-05-23T15:35:45.198934Z",
     "iopub.status.idle": "2022-05-23T15:36:34.096750Z",
     "shell.execute_reply": "2022-05-23T15:36:34.095340Z"
    },
    "papermill": {
     "duration": 48.979266,
     "end_time": "2022-05-23T15:36:34.137639",
     "exception": false,
     "start_time": "2022-05-23T15:35:45.158373",
     "status": "completed"
    },
    "tags": []
   },
   "outputs": [
    {
     "data": {
      "text/html": [
       "<div>\n",
       "<style scoped>\n",
       "    .dataframe tbody tr th:only-of-type {\n",
       "        vertical-align: middle;\n",
       "    }\n",
       "\n",
       "    .dataframe tbody tr th {\n",
       "        vertical-align: top;\n",
       "    }\n",
       "\n",
       "    .dataframe thead th {\n",
       "        text-align: right;\n",
       "    }\n",
       "</style>\n",
       "<table border=\"1\" class=\"dataframe\">\n",
       "  <thead>\n",
       "    <tr style=\"text-align: right;\">\n",
       "      <th></th>\n",
       "      <th>avg_second_between_trans_sent</th>\n",
       "    </tr>\n",
       "  </thead>\n",
       "  <tbody>\n",
       "    <tr>\n",
       "      <th>0</th>\n",
       "      <td>0.0958</td>\n",
       "    </tr>\n",
       "  </tbody>\n",
       "</table>\n",
       "</div>"
      ],
      "text/plain": [
       "   avg_second_between_trans_sent\n",
       "0                         0.0958"
      ]
     },
     "execution_count": 14,
     "metadata": {},
     "output_type": "execute_result"
    }
   ],
   "source": [
    "query_8 = \"\"\"\n",
    "select round(avg(d),4) as avg_second_between_trans_sent\n",
    "from\n",
    "(select  TIMESTAMP_DIFF(lead(block_timestamp, 1) over(order by block_timestamp),block_timestamp, second) as d\n",
    "from `bigquery-public-data.crypto_ethereum.transactions`\n",
    "where receipt_status is not null)\n",
    "\n",
    "\"\"\"\n",
    "\n",
    "query_job = client.query(query_8)\n",
    "iterator = query_job.result(timeout=100)\n",
    "rows = list(iterator)\n",
    "df_8 = pd.DataFrame(data=[list(x.values()) for x in rows], columns=list(rows[0].keys()))\n",
    "df_8.head()"
   ]
  },
  {
   "cell_type": "markdown",
   "id": "a567872d",
   "metadata": {
    "papermill": {
     "duration": 0.038602,
     "end_time": "2022-05-23T15:36:34.212323",
     "exception": false,
     "start_time": "2022-05-23T15:36:34.173721",
     "status": "completed"
    },
    "tags": []
   },
   "source": [
    "### <span style=\"color:red\">9. Average time between transactions received</span>"
   ]
  },
  {
   "cell_type": "code",
   "execution_count": 15,
   "id": "9e4603d4",
   "metadata": {
    "execution": {
     "iopub.execute_input": "2022-05-23T15:36:34.291024Z",
     "iopub.status.busy": "2022-05-23T15:36:34.290740Z",
     "iopub.status.idle": "2022-05-23T15:37:31.601701Z",
     "shell.execute_reply": "2022-05-23T15:37:31.600391Z"
    },
    "papermill": {
     "duration": 57.392157,
     "end_time": "2022-05-23T15:37:31.643639",
     "exception": false,
     "start_time": "2022-05-23T15:36:34.251482",
     "status": "completed"
    },
    "tags": []
   },
   "outputs": [
    {
     "data": {
      "text/html": [
       "<div>\n",
       "<style scoped>\n",
       "    .dataframe tbody tr th:only-of-type {\n",
       "        vertical-align: middle;\n",
       "    }\n",
       "\n",
       "    .dataframe tbody tr th {\n",
       "        vertical-align: top;\n",
       "    }\n",
       "\n",
       "    .dataframe thead th {\n",
       "        text-align: right;\n",
       "    }\n",
       "</style>\n",
       "<table border=\"1\" class=\"dataframe\">\n",
       "  <thead>\n",
       "    <tr style=\"text-align: right;\">\n",
       "      <th></th>\n",
       "      <th>avg_second_between_trans_received</th>\n",
       "    </tr>\n",
       "  </thead>\n",
       "  <tbody>\n",
       "    <tr>\n",
       "      <th>0</th>\n",
       "      <td>0.0989</td>\n",
       "    </tr>\n",
       "  </tbody>\n",
       "</table>\n",
       "</div>"
      ],
      "text/plain": [
       "   avg_second_between_trans_received\n",
       "0                             0.0989"
      ]
     },
     "execution_count": 15,
     "metadata": {},
     "output_type": "execute_result"
    }
   ],
   "source": [
    "query_9 = \"\"\"\n",
    "select round(avg(d),4) as avg_second_between_trans_received\n",
    "from\n",
    "(select  TIMESTAMP_DIFF(lead(block_timestamp, 1) over(order by block_timestamp),block_timestamp, second) as d\n",
    "from `bigquery-public-data.crypto_ethereum.transactions`\n",
    "where receipt_status = 1)\n",
    "\n",
    "\"\"\"\n",
    "\n",
    "query_job = client.query(query_9)\n",
    "iterator = query_job.result(timeout=100)\n",
    "rows = list(iterator)\n",
    "df_9 = pd.DataFrame(data=[list(x.values()) for x in rows], columns=list(rows[0].keys()))\n",
    "df_9.head()"
   ]
  },
  {
   "cell_type": "markdown",
   "id": "6273ee1e",
   "metadata": {
    "papermill": {
     "duration": 0.038535,
     "end_time": "2022-05-23T15:37:31.719854",
     "exception": false,
     "start_time": "2022-05-23T15:37:31.681319",
     "status": "completed"
    },
    "tags": []
   },
   "source": [
    "### <span style=\"color:red\">10. STD of time between transactions sent</span>"
   ]
  },
  {
   "cell_type": "code",
   "execution_count": 16,
   "id": "ba38bbe0",
   "metadata": {
    "execution": {
     "iopub.execute_input": "2022-05-23T15:37:31.803071Z",
     "iopub.status.busy": "2022-05-23T15:37:31.802747Z",
     "iopub.status.idle": "2022-05-23T15:38:26.710739Z",
     "shell.execute_reply": "2022-05-23T15:38:26.709630Z"
    },
    "papermill": {
     "duration": 54.991231,
     "end_time": "2022-05-23T15:38:26.750903",
     "exception": false,
     "start_time": "2022-05-23T15:37:31.759672",
     "status": "completed"
    },
    "tags": []
   },
   "outputs": [
    {
     "data": {
      "text/html": [
       "<div>\n",
       "<style scoped>\n",
       "    .dataframe tbody tr th:only-of-type {\n",
       "        vertical-align: middle;\n",
       "    }\n",
       "\n",
       "    .dataframe tbody tr th {\n",
       "        vertical-align: top;\n",
       "    }\n",
       "\n",
       "    .dataframe thead th {\n",
       "        text-align: right;\n",
       "    }\n",
       "</style>\n",
       "<table border=\"1\" class=\"dataframe\">\n",
       "  <thead>\n",
       "    <tr style=\"text-align: right;\">\n",
       "      <th></th>\n",
       "      <th>STD_second_between_trans_sent</th>\n",
       "    </tr>\n",
       "  </thead>\n",
       "  <tbody>\n",
       "    <tr>\n",
       "      <th>0</th>\n",
       "      <td>1.5741</td>\n",
       "    </tr>\n",
       "  </tbody>\n",
       "</table>\n",
       "</div>"
      ],
      "text/plain": [
       "   STD_second_between_trans_sent\n",
       "0                         1.5741"
      ]
     },
     "execution_count": 16,
     "metadata": {},
     "output_type": "execute_result"
    }
   ],
   "source": [
    "query_10 = \"\"\"\n",
    "select round(stddev(d),4) as STD_second_between_trans_sent\n",
    "from\n",
    "(select  TIMESTAMP_DIFF(lead(block_timestamp, 1) over(order by block_timestamp),block_timestamp, second) as d\n",
    "from `bigquery-public-data.crypto_ethereum.transactions`\n",
    "where receipt_status is not null)\n",
    "\n",
    "\"\"\"\n",
    "\n",
    "query_job = client.query(query_10)\n",
    "iterator = query_job.result(timeout=100)\n",
    "rows = list(iterator)\n",
    "df_10 = pd.DataFrame(data=[list(x.values()) for x in rows], columns=list(rows[0].keys()))\n",
    "df_10.head()"
   ]
  },
  {
   "cell_type": "markdown",
   "id": "febfd619",
   "metadata": {
    "papermill": {
     "duration": 0.039865,
     "end_time": "2022-05-23T15:38:26.829174",
     "exception": false,
     "start_time": "2022-05-23T15:38:26.789309",
     "status": "completed"
    },
    "tags": []
   },
   "source": [
    "### <span style=\"color:red\">11. STD of time between transactions received</span>"
   ]
  },
  {
   "cell_type": "code",
   "execution_count": 17,
   "id": "78d0d93d",
   "metadata": {
    "execution": {
     "iopub.execute_input": "2022-05-23T15:38:26.907380Z",
     "iopub.status.busy": "2022-05-23T15:38:26.906821Z",
     "iopub.status.idle": "2022-05-23T15:39:25.294308Z",
     "shell.execute_reply": "2022-05-23T15:39:25.293312Z"
    },
    "papermill": {
     "duration": 58.471256,
     "end_time": "2022-05-23T15:39:25.338336",
     "exception": false,
     "start_time": "2022-05-23T15:38:26.867080",
     "status": "completed"
    },
    "tags": []
   },
   "outputs": [
    {
     "data": {
      "text/html": [
       "<div>\n",
       "<style scoped>\n",
       "    .dataframe tbody tr th:only-of-type {\n",
       "        vertical-align: middle;\n",
       "    }\n",
       "\n",
       "    .dataframe tbody tr th {\n",
       "        vertical-align: top;\n",
       "    }\n",
       "\n",
       "    .dataframe thead th {\n",
       "        text-align: right;\n",
       "    }\n",
       "</style>\n",
       "<table border=\"1\" class=\"dataframe\">\n",
       "  <thead>\n",
       "    <tr style=\"text-align: right;\">\n",
       "      <th></th>\n",
       "      <th>STD_second_between_trans_received</th>\n",
       "    </tr>\n",
       "  </thead>\n",
       "  <tbody>\n",
       "    <tr>\n",
       "      <th>0</th>\n",
       "      <td>1.5989</td>\n",
       "    </tr>\n",
       "  </tbody>\n",
       "</table>\n",
       "</div>"
      ],
      "text/plain": [
       "   STD_second_between_trans_received\n",
       "0                             1.5989"
      ]
     },
     "execution_count": 17,
     "metadata": {},
     "output_type": "execute_result"
    }
   ],
   "source": [
    "query_11 = \"\"\"\n",
    "select round(stddev(d),4) as STD_second_between_trans_received\n",
    "from\n",
    "(select  TIMESTAMP_DIFF(lead(block_timestamp, 1) over(order by block_timestamp),block_timestamp, second) as d\n",
    "from `bigquery-public-data.crypto_ethereum.transactions`\n",
    "where receipt_status = 1)\n",
    "\n",
    "\"\"\"\n",
    "\n",
    "query_job = client.query(query_11)\n",
    "iterator = query_job.result(timeout=100)\n",
    "rows = list(iterator)\n",
    "df_11 = pd.DataFrame(data=[list(x.values()) for x in rows], columns=list(rows[0].keys()))\n",
    "df_11.head()"
   ]
  },
  {
   "cell_type": "markdown",
   "id": "eee5779e",
   "metadata": {
    "papermill": {
     "duration": 0.040698,
     "end_time": "2022-05-23T15:39:25.417180",
     "exception": false,
     "start_time": "2022-05-23T15:39:25.376482",
     "status": "completed"
    },
    "tags": []
   },
   "source": [
    "### <span style=\"color:red\">12. Active months</span>"
   ]
  },
  {
   "cell_type": "code",
   "execution_count": 18,
   "id": "91578cf7",
   "metadata": {
    "execution": {
     "iopub.execute_input": "2022-05-23T15:39:25.499475Z",
     "iopub.status.busy": "2022-05-23T15:39:25.498630Z",
     "iopub.status.idle": "2022-05-23T15:39:33.754590Z",
     "shell.execute_reply": "2022-05-23T15:39:33.753460Z"
    },
    "papermill": {
     "duration": 8.300399,
     "end_time": "2022-05-23T15:39:33.757147",
     "exception": false,
     "start_time": "2022-05-23T15:39:25.456748",
     "status": "completed"
    },
    "tags": []
   },
   "outputs": [
    {
     "data": {
      "text/html": [
       "<div>\n",
       "<style scoped>\n",
       "    .dataframe tbody tr th:only-of-type {\n",
       "        vertical-align: middle;\n",
       "    }\n",
       "\n",
       "    .dataframe tbody tr th {\n",
       "        vertical-align: top;\n",
       "    }\n",
       "\n",
       "    .dataframe thead th {\n",
       "        text-align: right;\n",
       "    }\n",
       "</style>\n",
       "<table border=\"1\" class=\"dataframe\">\n",
       "  <thead>\n",
       "    <tr style=\"text-align: right;\">\n",
       "      <th></th>\n",
       "      <th>the_most_3_active_months</th>\n",
       "    </tr>\n",
       "  </thead>\n",
       "  <tbody>\n",
       "    <tr>\n",
       "      <th>0</th>\n",
       "      <td>5</td>\n",
       "    </tr>\n",
       "    <tr>\n",
       "      <th>1</th>\n",
       "      <td>1</td>\n",
       "    </tr>\n",
       "    <tr>\n",
       "      <th>2</th>\n",
       "      <td>4</td>\n",
       "    </tr>\n",
       "  </tbody>\n",
       "</table>\n",
       "</div>"
      ],
      "text/plain": [
       "   the_most_3_active_months\n",
       "0                         5\n",
       "1                         1\n",
       "2                         4"
      ]
     },
     "execution_count": 18,
     "metadata": {},
     "output_type": "execute_result"
    }
   ],
   "source": [
    "# The most 3 active months\n",
    "\n",
    "query_12 = \"\"\"\n",
    "select months as the_most_3_active_months\n",
    "from\n",
    "(select count(`bigquery-public-data.crypto_ethereum.transactions`.hash) as count_transactions_received, extract(month from block_timestamp) as months\n",
    "from  `bigquery-public-data.crypto_ethereum.transactions`\n",
    "where receipt_status = 1\n",
    "group by extract(month from block_timestamp)) T\n",
    "order by count_transactions_received desc\n",
    "limit 3\n",
    "\n",
    "\"\"\"\n",
    "\n",
    "query_job = client.query(query_12)\n",
    "iterator = query_job.result(timeout=100)\n",
    "rows = list(iterator)\n",
    "df_12 = pd.DataFrame(data=[list(x.values()) for x in rows], columns=list(rows[0].keys()))\n",
    "df_12"
   ]
  },
  {
   "cell_type": "markdown",
   "id": "e972ee2e",
   "metadata": {
    "papermill": {
     "duration": 0.038569,
     "end_time": "2022-05-23T15:39:33.837559",
     "exception": false,
     "start_time": "2022-05-23T15:39:33.798990",
     "status": "completed"
    },
    "tags": []
   },
   "source": [
    "### <span style=\"color:red\">13. ETH balance</span>"
   ]
  },
  {
   "cell_type": "code",
   "execution_count": 19,
   "id": "3957c086",
   "metadata": {
    "execution": {
     "iopub.execute_input": "2022-05-23T15:39:33.920923Z",
     "iopub.status.busy": "2022-05-23T15:39:33.920567Z",
     "iopub.status.idle": "2022-05-23T15:39:43.543030Z",
     "shell.execute_reply": "2022-05-23T15:39:43.541527Z"
    },
    "papermill": {
     "duration": 9.668225,
     "end_time": "2022-05-23T15:39:43.545606",
     "exception": false,
     "start_time": "2022-05-23T15:39:33.877381",
     "status": "completed"
    },
    "tags": []
   },
   "outputs": [
    {
     "data": {
      "text/html": [
       "<div>\n",
       "<style scoped>\n",
       "    .dataframe tbody tr th:only-of-type {\n",
       "        vertical-align: middle;\n",
       "    }\n",
       "\n",
       "    .dataframe tbody tr th {\n",
       "        vertical-align: top;\n",
       "    }\n",
       "\n",
       "    .dataframe thead th {\n",
       "        text-align: right;\n",
       "    }\n",
       "</style>\n",
       "<table border=\"1\" class=\"dataframe\">\n",
       "  <thead>\n",
       "    <tr style=\"text-align: right;\">\n",
       "      <th></th>\n",
       "      <th>to_address</th>\n",
       "      <th>ETH_balance</th>\n",
       "    </tr>\n",
       "  </thead>\n",
       "  <tbody>\n",
       "    <tr>\n",
       "      <th>0</th>\n",
       "      <td>0x3f5ce5fbfe3e9af3971dd833d26ba9b5c936f0be</td>\n",
       "      <td>160873160.44</td>\n",
       "    </tr>\n",
       "    <tr>\n",
       "      <th>1</th>\n",
       "      <td>0x876eabf441b2ee5b5b0554fd502a8e0600950cfa</td>\n",
       "      <td>72218723.03</td>\n",
       "    </tr>\n",
       "    <tr>\n",
       "      <th>2</th>\n",
       "      <td>0x7a250d5630b4cf539739df2c5dacb4c659f2488d</td>\n",
       "      <td>69848638.95</td>\n",
       "    </tr>\n",
       "    <tr>\n",
       "      <th>3</th>\n",
       "      <td>0xfa52274dd61e1643d2205169732f29114bc240b3</td>\n",
       "      <td>43872297.59</td>\n",
       "    </tr>\n",
       "    <tr>\n",
       "      <th>4</th>\n",
       "      <td>0x28c6c06298d514db089934071355e5743bf21d60</td>\n",
       "      <td>43842629.57</td>\n",
       "    </tr>\n",
       "    <tr>\n",
       "      <th>5</th>\n",
       "      <td>0xd551234ae421e3bcba99a0da6d736074f22192ff</td>\n",
       "      <td>31616623.32</td>\n",
       "    </tr>\n",
       "    <tr>\n",
       "      <th>6</th>\n",
       "      <td>0x0681d8db095565fe8a346fa0277bffde9c0edbbf</td>\n",
       "      <td>31573407.21</td>\n",
       "    </tr>\n",
       "    <tr>\n",
       "      <th>7</th>\n",
       "      <td>0x564286362092d8e7936f0549571a803b203aaced</td>\n",
       "      <td>31083367.28</td>\n",
       "    </tr>\n",
       "    <tr>\n",
       "      <th>8</th>\n",
       "      <td>0xc02aaa39b223fe8d0a0e5c4f27ead9083c756cc2</td>\n",
       "      <td>29945082.21</td>\n",
       "    </tr>\n",
       "    <tr>\n",
       "      <th>9</th>\n",
       "      <td>0xa7efae728d2936e78bda97dc267687568dd593f3</td>\n",
       "      <td>27140124.07</td>\n",
       "    </tr>\n",
       "  </tbody>\n",
       "</table>\n",
       "</div>"
      ],
      "text/plain": [
       "                                   to_address   ETH_balance\n",
       "0  0x3f5ce5fbfe3e9af3971dd833d26ba9b5c936f0be  160873160.44\n",
       "1  0x876eabf441b2ee5b5b0554fd502a8e0600950cfa   72218723.03\n",
       "2  0x7a250d5630b4cf539739df2c5dacb4c659f2488d   69848638.95\n",
       "3  0xfa52274dd61e1643d2205169732f29114bc240b3   43872297.59\n",
       "4  0x28c6c06298d514db089934071355e5743bf21d60   43842629.57\n",
       "5  0xd551234ae421e3bcba99a0da6d736074f22192ff   31616623.32\n",
       "6  0x0681d8db095565fe8a346fa0277bffde9c0edbbf   31573407.21\n",
       "7  0x564286362092d8e7936f0549571a803b203aaced   31083367.28\n",
       "8  0xc02aaa39b223fe8d0a0e5c4f27ead9083c756cc2   29945082.21\n",
       "9  0xa7efae728d2936e78bda97dc267687568dd593f3   27140124.07"
      ]
     },
     "execution_count": 19,
     "metadata": {},
     "output_type": "execute_result"
    }
   ],
   "source": [
    "# ETH balance by addresses (the biggest 10 balances)\n",
    "\n",
    "query_13 = \"\"\"\n",
    "select to_address, sum(round((value/1000000000000000000),2)) as ETH_balance\n",
    "from  `bigquery-public-data.crypto_ethereum.transactions`\n",
    "where receipt_status = 1\n",
    "group by to_address\n",
    "order by ETH_balance desc\n",
    "limit 10\n",
    "\n",
    "\"\"\"\n",
    "\n",
    "query_job = client.query(query_13)\n",
    "iterator = query_job.result(timeout=50)\n",
    "rows = list(iterator)\n",
    "df_13 = pd.DataFrame(data=[list(x.values()) for x in rows], columns=list(rows[0].keys()))\n",
    "df_13"
   ]
  },
  {
   "cell_type": "code",
   "execution_count": null,
   "id": "19399956",
   "metadata": {
    "papermill": {
     "duration": 0.04169,
     "end_time": "2022-05-23T15:39:43.626629",
     "exception": false,
     "start_time": "2022-05-23T15:39:43.584939",
     "status": "completed"
    },
    "tags": []
   },
   "outputs": [],
   "source": []
  }
 ],
 "metadata": {
  "kernelspec": {
   "display_name": "Python 3",
   "language": "python",
   "name": "python3"
  },
  "language_info": {
   "codemirror_mode": {
    "name": "ipython",
    "version": 3
   },
   "file_extension": ".py",
   "mimetype": "text/x-python",
   "name": "python",
   "nbconvert_exporter": "python",
   "pygments_lexer": "ipython3",
   "version": "3.7.12"
  },
  "papermill": {
   "default_parameters": {},
   "duration": 342.44651,
   "end_time": "2022-05-23T15:39:44.590466",
   "environment_variables": {},
   "exception": null,
   "input_path": "__notebook__.ipynb",
   "output_path": "__notebook__.ipynb",
   "parameters": {},
   "start_time": "2022-05-23T15:34:02.143956",
   "version": "2.3.4"
  }
 },
 "nbformat": 4,
 "nbformat_minor": 5
}
