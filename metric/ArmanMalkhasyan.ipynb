{
 "cells": [
  {
   "cell_type": "markdown",
   "id": "a6c76cca",
   "metadata": {},
   "source": [
    "# BI and Data analytics"
   ]
  },
  {
   "cell_type": "markdown",
   "id": "5069198c",
   "metadata": {},
   "source": [
    "## Importing packages"
   ]
  },
  {
   "cell_type": "code",
   "execution_count": 1,
   "id": "37cc9215",
   "metadata": {},
   "outputs": [],
   "source": [
    "from google.cloud import bigquery\n",
    "import pandas as pd\n",
    "import os"
   ]
  },
  {
   "cell_type": "markdown",
   "id": "645f4db7",
   "metadata": {},
   "source": [
    "## Tasks"
   ]
  },
  {
   "cell_type": "code",
   "execution_count": 2,
   "id": "47314fb4",
   "metadata": {},
   "outputs": [],
   "source": [
    "os.environ[\"GOOGLE_APPLICATION_CREDENTIALS\"]=\"/home/arman/Downloads/bi-and-data-analytics-task-e40f630391cf.json\""
   ]
  },
  {
   "cell_type": "code",
   "execution_count": 3,
   "id": "c6cce81b",
   "metadata": {},
   "outputs": [],
   "source": [
    "client = bigquery.Client()"
   ]
  },
  {
   "cell_type": "markdown",
   "id": "8857341e",
   "metadata": {},
   "source": [
    "### For <span style=\"color:GREEN\">TIME</span> and <span style=\"color:GREEN\">SPACE COMPLEXITY</span> I use <span style=\"color:GREEN\">LIMIT 10</span> in some querries."
   ]
  },
  {
   "cell_type": "markdown",
   "id": "5c8b07a5",
   "metadata": {},
   "source": [
    "### <span style=\"color:red\">1. transactions sent</span>"
   ]
  },
  {
   "cell_type": "code",
   "execution_count": 14,
   "id": "0d684176",
   "metadata": {},
   "outputs": [
    {
     "data": {
      "text/html": [
       "<div>\n",
       "<style scoped>\n",
       "    .dataframe tbody tr th:only-of-type {\n",
       "        vertical-align: middle;\n",
       "    }\n",
       "\n",
       "    .dataframe tbody tr th {\n",
       "        vertical-align: top;\n",
       "    }\n",
       "\n",
       "    .dataframe thead th {\n",
       "        text-align: right;\n",
       "    }\n",
       "</style>\n",
       "<table border=\"1\" class=\"dataframe\">\n",
       "  <thead>\n",
       "    <tr style=\"text-align: right;\">\n",
       "      <th></th>\n",
       "      <th>id</th>\n",
       "    </tr>\n",
       "  </thead>\n",
       "  <tbody>\n",
       "    <tr>\n",
       "      <th>0</th>\n",
       "      <td>0x0860dbefcf40bb92f46e06fc845db68f8f0e3161c762...</td>\n",
       "    </tr>\n",
       "    <tr>\n",
       "      <th>1</th>\n",
       "      <td>0xa3db522a11589f55fa2ed160a31bc0cd9ab49073d8c2...</td>\n",
       "    </tr>\n",
       "    <tr>\n",
       "      <th>2</th>\n",
       "      <td>0x0449e9b3dd4b67e8a54bff7833ddb70eb81c33ea1833...</td>\n",
       "    </tr>\n",
       "    <tr>\n",
       "      <th>3</th>\n",
       "      <td>0x5d9eb6e90cd8f52ebb3bdc90d04f1d7a182a173f5aea...</td>\n",
       "    </tr>\n",
       "    <tr>\n",
       "      <th>4</th>\n",
       "      <td>0x6279f7a4b0c2d06221fe813bf31cbc3d9160b5ac6b52...</td>\n",
       "    </tr>\n",
       "  </tbody>\n",
       "</table>\n",
       "</div>"
      ],
      "text/plain": [
       "                                                  id\n",
       "0  0x0860dbefcf40bb92f46e06fc845db68f8f0e3161c762...\n",
       "1  0xa3db522a11589f55fa2ed160a31bc0cd9ab49073d8c2...\n",
       "2  0x0449e9b3dd4b67e8a54bff7833ddb70eb81c33ea1833...\n",
       "3  0x5d9eb6e90cd8f52ebb3bdc90d04f1d7a182a173f5aea...\n",
       "4  0x6279f7a4b0c2d06221fe813bf31cbc3d9160b5ac6b52..."
      ]
     },
     "execution_count": 14,
     "metadata": {},
     "output_type": "execute_result"
    }
   ],
   "source": [
    "# All the transactions sent\n",
    "\n",
    "query_1_1 = \"\"\"\n",
    "select  `bigquery-public-data.crypto_ethereum.transactions`.hash as id\n",
    "from `bigquery-public-data.crypto_ethereum.transactions`\n",
    "where receipt_status is not null \n",
    "limit 10\n",
    "\"\"\"\n",
    "\n",
    "query_job = client.query(query_1_1)\n",
    "iterator = query_job.result(timeout=50)\n",
    "rows = list(iterator)\n",
    "df_1_1 = pd.DataFrame(data=[list(x.values()) for x in rows], columns=list(rows[0].keys()))\n",
    "df_1_1.head()"
   ]
  },
  {
   "cell_type": "code",
   "execution_count": 15,
   "id": "96f40ef0",
   "metadata": {},
   "outputs": [
    {
     "data": {
      "text/html": [
       "<div>\n",
       "<style scoped>\n",
       "    .dataframe tbody tr th:only-of-type {\n",
       "        vertical-align: middle;\n",
       "    }\n",
       "\n",
       "    .dataframe tbody tr th {\n",
       "        vertical-align: top;\n",
       "    }\n",
       "\n",
       "    .dataframe thead th {\n",
       "        text-align: right;\n",
       "    }\n",
       "</style>\n",
       "<table border=\"1\" class=\"dataframe\">\n",
       "  <thead>\n",
       "    <tr style=\"text-align: right;\">\n",
       "      <th></th>\n",
       "      <th>count</th>\n",
       "    </tr>\n",
       "  </thead>\n",
       "  <tbody>\n",
       "    <tr>\n",
       "      <th>0</th>\n",
       "      <td>1515120476</td>\n",
       "    </tr>\n",
       "  </tbody>\n",
       "</table>\n",
       "</div>"
      ],
      "text/plain": [
       "        count\n",
       "0  1515120476"
      ]
     },
     "execution_count": 15,
     "metadata": {},
     "output_type": "execute_result"
    }
   ],
   "source": [
    "# The number of transactions sent\n",
    "\n",
    "query_1_2 = \"\"\"\n",
    "select  count(`bigquery-public-data.crypto_ethereum.transactions`.hash) as count\n",
    "from `bigquery-public-data.crypto_ethereum.transactions`\n",
    "where receipt_status is not null \n",
    "\"\"\"\n",
    "\n",
    "query_job = client.query(query_1_2)\n",
    "iterator = query_job.result(timeout=50)\n",
    "rows = list(iterator)\n",
    "df_1_2 = pd.DataFrame(data=[list(x.values()) for x in rows], columns=list(rows[0].keys()))\n",
    "df_1_2.head()"
   ]
  },
  {
   "cell_type": "markdown",
   "id": "c20998f2",
   "metadata": {},
   "source": [
    "### <span style=\"color:red\">2. transactions recieved 3/ ETH sent</span>"
   ]
  },
  {
   "cell_type": "code",
   "execution_count": 16,
   "id": "3e051121",
   "metadata": {},
   "outputs": [
    {
     "data": {
      "text/html": [
       "<div>\n",
       "<style scoped>\n",
       "    .dataframe tbody tr th:only-of-type {\n",
       "        vertical-align: middle;\n",
       "    }\n",
       "\n",
       "    .dataframe tbody tr th {\n",
       "        vertical-align: top;\n",
       "    }\n",
       "\n",
       "    .dataframe thead th {\n",
       "        text-align: right;\n",
       "    }\n",
       "</style>\n",
       "<table border=\"1\" class=\"dataframe\">\n",
       "  <thead>\n",
       "    <tr style=\"text-align: right;\">\n",
       "      <th></th>\n",
       "      <th>Id</th>\n",
       "    </tr>\n",
       "  </thead>\n",
       "  <tbody>\n",
       "    <tr>\n",
       "      <th>0</th>\n",
       "      <td>0x4953aa9ff28bfa2d36a449ab5a01a862ebb62d266ddd...</td>\n",
       "    </tr>\n",
       "    <tr>\n",
       "      <th>1</th>\n",
       "      <td>0x721174662b726f696cab200990b56085becfed76dbb3...</td>\n",
       "    </tr>\n",
       "    <tr>\n",
       "      <th>2</th>\n",
       "      <td>0xa5b84ac3b6ba8f375fcdb5c021a1dbd79c392250c481...</td>\n",
       "    </tr>\n",
       "    <tr>\n",
       "      <th>3</th>\n",
       "      <td>0xf8e887635fbfd58e1700896acf5baa48815824b2594f...</td>\n",
       "    </tr>\n",
       "    <tr>\n",
       "      <th>4</th>\n",
       "      <td>0x35dbf4f4581cf564206b28482a7cf346323d4348edf7...</td>\n",
       "    </tr>\n",
       "  </tbody>\n",
       "</table>\n",
       "</div>"
      ],
      "text/plain": [
       "                                                  Id\n",
       "0  0x4953aa9ff28bfa2d36a449ab5a01a862ebb62d266ddd...\n",
       "1  0x721174662b726f696cab200990b56085becfed76dbb3...\n",
       "2  0xa5b84ac3b6ba8f375fcdb5c021a1dbd79c392250c481...\n",
       "3  0xf8e887635fbfd58e1700896acf5baa48815824b2594f...\n",
       "4  0x35dbf4f4581cf564206b28482a7cf346323d4348edf7..."
      ]
     },
     "execution_count": 16,
     "metadata": {},
     "output_type": "execute_result"
    }
   ],
   "source": [
    "# All the transactions received\n",
    "\n",
    "query_2_1 = \"\"\"\n",
    "select `bigquery-public-data.crypto_ethereum.transactions`.hash as Id\n",
    "from  `bigquery-public-data.crypto_ethereum.transactions`\n",
    "where receipt_status = 1\n",
    "limit 10\n",
    "\"\"\"\n",
    "\n",
    "query_job = client.query(query_2_1)\n",
    "iterator = query_job.result(timeout=50)\n",
    "rows = list(iterator)\n",
    "df_2_1 = pd.DataFrame(data=[list(x.values()) for x in rows], columns=list(rows[0].keys()))\n",
    "df_2_1.head()"
   ]
  },
  {
   "cell_type": "code",
   "execution_count": 17,
   "id": "0d687816",
   "metadata": {},
   "outputs": [
    {
     "data": {
      "text/html": [
       "<div>\n",
       "<style scoped>\n",
       "    .dataframe tbody tr th:only-of-type {\n",
       "        vertical-align: middle;\n",
       "    }\n",
       "\n",
       "    .dataframe tbody tr th {\n",
       "        vertical-align: top;\n",
       "    }\n",
       "\n",
       "    .dataframe thead th {\n",
       "        text-align: right;\n",
       "    }\n",
       "</style>\n",
       "<table border=\"1\" class=\"dataframe\">\n",
       "  <thead>\n",
       "    <tr style=\"text-align: right;\">\n",
       "      <th></th>\n",
       "      <th>count</th>\n",
       "    </tr>\n",
       "  </thead>\n",
       "  <tbody>\n",
       "    <tr>\n",
       "      <th>0</th>\n",
       "      <td>1468372694</td>\n",
       "    </tr>\n",
       "  </tbody>\n",
       "</table>\n",
       "</div>"
      ],
      "text/plain": [
       "        count\n",
       "0  1468372694"
      ]
     },
     "execution_count": 17,
     "metadata": {},
     "output_type": "execute_result"
    }
   ],
   "source": [
    "# The number of transactions received\n",
    "\n",
    "query_2_2 = \"\"\"\n",
    "select count(`bigquery-public-data.crypto_ethereum.transactions`.hash) as count\n",
    "from  `bigquery-public-data.crypto_ethereum.transactions`\n",
    "where receipt_status = 1\n",
    "\"\"\"\n",
    "\n",
    "query_job = client.query(query_2_2)\n",
    "iterator = query_job.result(timeout=50)\n",
    "rows = list(iterator)\n",
    "df_2_2 = pd.DataFrame(data=[list(x.values()) for x in rows], columns=list(rows[0].keys()))\n",
    "df_2_2.head()"
   ]
  },
  {
   "cell_type": "code",
   "execution_count": 18,
   "id": "05ef4d9b",
   "metadata": {},
   "outputs": [
    {
     "data": {
      "text/html": [
       "<div>\n",
       "<style scoped>\n",
       "    .dataframe tbody tr th:only-of-type {\n",
       "        vertical-align: middle;\n",
       "    }\n",
       "\n",
       "    .dataframe tbody tr th {\n",
       "        vertical-align: top;\n",
       "    }\n",
       "\n",
       "    .dataframe thead th {\n",
       "        text-align: right;\n",
       "    }\n",
       "</style>\n",
       "<table border=\"1\" class=\"dataframe\">\n",
       "  <thead>\n",
       "    <tr style=\"text-align: right;\">\n",
       "      <th></th>\n",
       "      <th>ETH_value_sent</th>\n",
       "    </tr>\n",
       "  </thead>\n",
       "  <tbody>\n",
       "    <tr>\n",
       "      <th>0</th>\n",
       "      <td>5102204360.37</td>\n",
       "    </tr>\n",
       "  </tbody>\n",
       "</table>\n",
       "</div>"
      ],
      "text/plain": [
       "  ETH_value_sent\n",
       "0  5102204360.37"
      ]
     },
     "execution_count": 18,
     "metadata": {},
     "output_type": "execute_result"
    }
   ],
   "source": [
    "# Overall ETH sent\n",
    "\n",
    "query_2_3 = \"\"\"\n",
    "select sum(round((value/1000000000000000000),2)) as ETH_value_sent \n",
    "from  `bigquery-public-data.crypto_ethereum.transactions`\n",
    "where receipt_status is not null\n",
    "\"\"\"\n",
    "\n",
    "query_job = client.query(query_2_3)\n",
    "iterator = query_job.result(timeout=50)\n",
    "rows = list(iterator)\n",
    "df_2_3 = pd.DataFrame(data=[list(x.values()) for x in rows], columns=list(rows[0].keys()))\n",
    "df_2_3.head()"
   ]
  },
  {
   "cell_type": "markdown",
   "id": "2364bdb7",
   "metadata": {},
   "source": [
    "### <span style=\"color:red\">3. ETH recieved</span>"
   ]
  },
  {
   "cell_type": "code",
   "execution_count": 19,
   "id": "b8deb1e9",
   "metadata": {},
   "outputs": [
    {
     "data": {
      "text/html": [
       "<div>\n",
       "<style scoped>\n",
       "    .dataframe tbody tr th:only-of-type {\n",
       "        vertical-align: middle;\n",
       "    }\n",
       "\n",
       "    .dataframe tbody tr th {\n",
       "        vertical-align: top;\n",
       "    }\n",
       "\n",
       "    .dataframe thead th {\n",
       "        text-align: right;\n",
       "    }\n",
       "</style>\n",
       "<table border=\"1\" class=\"dataframe\">\n",
       "  <thead>\n",
       "    <tr style=\"text-align: right;\">\n",
       "      <th></th>\n",
       "      <th>ETH_value_received</th>\n",
       "    </tr>\n",
       "  </thead>\n",
       "  <tbody>\n",
       "    <tr>\n",
       "      <th>0</th>\n",
       "      <td>5062063238.35</td>\n",
       "    </tr>\n",
       "  </tbody>\n",
       "</table>\n",
       "</div>"
      ],
      "text/plain": [
       "  ETH_value_received\n",
       "0      5062063238.35"
      ]
     },
     "execution_count": 19,
     "metadata": {},
     "output_type": "execute_result"
    }
   ],
   "source": [
    "query_3 = \"\"\"\n",
    "select sum(round((value/1000000000000000000),2)) as ETH_value_received\n",
    "from  `bigquery-public-data.crypto_ethereum.transactions`\n",
    "where receipt_status = 1\n",
    "\"\"\"\n",
    "\n",
    "query_job = client.query(query_3)\n",
    "iterator = query_job.result(timeout=50)\n",
    "rows = list(iterator)\n",
    "df_3 = pd.DataFrame(data=[list(x.values()) for x in rows], columns=list(rows[0].keys()))\n",
    "df_3.head()"
   ]
  },
  {
   "cell_type": "markdown",
   "id": "619598ff",
   "metadata": {},
   "source": [
    "### <span style=\"color:red\">4. Average monthly transactions sent</span>"
   ]
  },
  {
   "cell_type": "code",
   "execution_count": 20,
   "id": "8c05820d",
   "metadata": {},
   "outputs": [
    {
     "data": {
      "text/html": [
       "<div>\n",
       "<style scoped>\n",
       "    .dataframe tbody tr th:only-of-type {\n",
       "        vertical-align: middle;\n",
       "    }\n",
       "\n",
       "    .dataframe tbody tr th {\n",
       "        vertical-align: top;\n",
       "    }\n",
       "\n",
       "    .dataframe thead th {\n",
       "        text-align: right;\n",
       "    }\n",
       "</style>\n",
       "<table border=\"1\" class=\"dataframe\">\n",
       "  <thead>\n",
       "    <tr style=\"text-align: right;\">\n",
       "      <th></th>\n",
       "      <th>avg_monthly_trans_sent</th>\n",
       "    </tr>\n",
       "  </thead>\n",
       "  <tbody>\n",
       "    <tr>\n",
       "      <th>0</th>\n",
       "      <td>27056405.16</td>\n",
       "    </tr>\n",
       "  </tbody>\n",
       "</table>\n",
       "</div>"
      ],
      "text/plain": [
       "   avg_monthly_trans_sent\n",
       "0             27056405.16"
      ]
     },
     "execution_count": 20,
     "metadata": {},
     "output_type": "execute_result"
    }
   ],
   "source": [
    "query_4 = \"\"\"\n",
    "select round(avg(count_transactions_sent),2) as avg_monthly_trans_sent\n",
    "from\n",
    "(select count(`bigquery-public-data.crypto_ethereum.transactions`.hash) as count_transactions_sent, extract(year from block_timestamp) as year, extract(month from block_timestamp) as month\n",
    "from  `bigquery-public-data.crypto_ethereum.transactions`\n",
    "where receipt_status is not null\n",
    "group by extract(year from block_timestamp), extract(month from block_timestamp)) T\n",
    "\n",
    "\n",
    "\"\"\"\n",
    "\n",
    "query_job = client.query(query_4)\n",
    "iterator = query_job.result(timeout=50)\n",
    "rows = list(iterator)\n",
    "df_4 = pd.DataFrame(data=[list(x.values()) for x in rows], columns=list(rows[0].keys()))\n",
    "df_4.head()"
   ]
  },
  {
   "cell_type": "markdown",
   "id": "e88d9267",
   "metadata": {},
   "source": [
    "### <span style=\"color:red\">5. Average monthly transactions recieved</span>"
   ]
  },
  {
   "cell_type": "code",
   "execution_count": 21,
   "id": "da69e0e3",
   "metadata": {},
   "outputs": [
    {
     "data": {
      "text/html": [
       "<div>\n",
       "<style scoped>\n",
       "    .dataframe tbody tr th:only-of-type {\n",
       "        vertical-align: middle;\n",
       "    }\n",
       "\n",
       "    .dataframe tbody tr th {\n",
       "        vertical-align: top;\n",
       "    }\n",
       "\n",
       "    .dataframe thead th {\n",
       "        text-align: right;\n",
       "    }\n",
       "</style>\n",
       "<table border=\"1\" class=\"dataframe\">\n",
       "  <thead>\n",
       "    <tr style=\"text-align: right;\">\n",
       "      <th></th>\n",
       "      <th>avg_monthly_trans_received</th>\n",
       "    </tr>\n",
       "  </thead>\n",
       "  <tbody>\n",
       "    <tr>\n",
       "      <th>0</th>\n",
       "      <td>26221597.52</td>\n",
       "    </tr>\n",
       "  </tbody>\n",
       "</table>\n",
       "</div>"
      ],
      "text/plain": [
       "   avg_monthly_trans_received\n",
       "0                 26221597.52"
      ]
     },
     "execution_count": 21,
     "metadata": {},
     "output_type": "execute_result"
    }
   ],
   "source": [
    "query_5 = \"\"\"\n",
    "select round(avg(count_transactions_received),2) as avg_monthly_trans_received\n",
    "from\n",
    "(select count(`bigquery-public-data.crypto_ethereum.transactions`.hash) as count_transactions_received, extract(year from block_timestamp) as year, extract(month from block_timestamp) as month\n",
    "from  `bigquery-public-data.crypto_ethereum.transactions`\n",
    "where receipt_status = 1\n",
    "group by extract(year from block_timestamp), extract(month from block_timestamp)) T\n",
    "\n",
    "\n",
    "\"\"\"\n",
    "\n",
    "query_job = client.query(query_5)\n",
    "iterator = query_job.result(timeout=50)\n",
    "rows = list(iterator)\n",
    "df_5 = pd.DataFrame(data=[list(x.values()) for x in rows], columns=list(rows[0].keys()))\n",
    "df_5.head()"
   ]
  },
  {
   "cell_type": "markdown",
   "id": "9d7c46e6",
   "metadata": {},
   "source": [
    "### <span style=\"color:red\">6. Average monthly ETH sent</span>"
   ]
  },
  {
   "cell_type": "code",
   "execution_count": 22,
   "id": "42c697e0",
   "metadata": {},
   "outputs": [
    {
     "data": {
      "text/html": [
       "<div>\n",
       "<style scoped>\n",
       "    .dataframe tbody tr th:only-of-type {\n",
       "        vertical-align: middle;\n",
       "    }\n",
       "\n",
       "    .dataframe tbody tr th {\n",
       "        vertical-align: top;\n",
       "    }\n",
       "\n",
       "    .dataframe thead th {\n",
       "        text-align: right;\n",
       "    }\n",
       "</style>\n",
       "<table border=\"1\" class=\"dataframe\">\n",
       "  <thead>\n",
       "    <tr style=\"text-align: right;\">\n",
       "      <th></th>\n",
       "      <th>avg_monthly_ETH_sent</th>\n",
       "    </tr>\n",
       "  </thead>\n",
       "  <tbody>\n",
       "    <tr>\n",
       "      <th>0</th>\n",
       "      <td>91111408.09</td>\n",
       "    </tr>\n",
       "  </tbody>\n",
       "</table>\n",
       "</div>"
      ],
      "text/plain": [
       "  avg_monthly_ETH_sent\n",
       "0          91111408.09"
      ]
     },
     "execution_count": 22,
     "metadata": {},
     "output_type": "execute_result"
    }
   ],
   "source": [
    "query_6 = \"\"\"\n",
    "select round(avg(sum_ETH_sent),2) as avg_monthly_ETH_sent\n",
    "from\n",
    "(select sum(round((value/1000000000000000000),2)) as sum_ETH_sent, extract(year from block_timestamp) as year, extract(month from block_timestamp) as month\n",
    "from  `bigquery-public-data.crypto_ethereum.transactions`\n",
    "where receipt_status is not null\n",
    "group by extract(year from block_timestamp), extract(month from block_timestamp)) T\n",
    "\n",
    "\"\"\"\n",
    "\n",
    "query_job = client.query(query_6)\n",
    "iterator = query_job.result(timeout=50)\n",
    "rows = list(iterator)\n",
    "df_6 = pd.DataFrame(data=[list(x.values()) for x in rows], columns=list(rows[0].keys()))\n",
    "df_6.head()"
   ]
  },
  {
   "cell_type": "markdown",
   "id": "6740b3e1",
   "metadata": {},
   "source": [
    "### <span style=\"color:red\">7. Average monthly ETH received</span>"
   ]
  },
  {
   "cell_type": "code",
   "execution_count": 23,
   "id": "d5db03ed",
   "metadata": {},
   "outputs": [
    {
     "data": {
      "text/html": [
       "<div>\n",
       "<style scoped>\n",
       "    .dataframe tbody tr th:only-of-type {\n",
       "        vertical-align: middle;\n",
       "    }\n",
       "\n",
       "    .dataframe tbody tr th {\n",
       "        vertical-align: top;\n",
       "    }\n",
       "\n",
       "    .dataframe thead th {\n",
       "        text-align: right;\n",
       "    }\n",
       "</style>\n",
       "<table border=\"1\" class=\"dataframe\">\n",
       "  <thead>\n",
       "    <tr style=\"text-align: right;\">\n",
       "      <th></th>\n",
       "      <th>avg_monthly_ETH_received</th>\n",
       "    </tr>\n",
       "  </thead>\n",
       "  <tbody>\n",
       "    <tr>\n",
       "      <th>0</th>\n",
       "      <td>90394614.64</td>\n",
       "    </tr>\n",
       "  </tbody>\n",
       "</table>\n",
       "</div>"
      ],
      "text/plain": [
       "  avg_monthly_ETH_received\n",
       "0              90394614.64"
      ]
     },
     "execution_count": 23,
     "metadata": {},
     "output_type": "execute_result"
    }
   ],
   "source": [
    "query_7 = \"\"\"\n",
    "select round(avg(sum_ETH_received),2) as avg_monthly_ETH_received\n",
    "from\n",
    "(select sum(round((value/1000000000000000000),2)) as sum_ETH_received, extract(year from block_timestamp) as year, extract(month from block_timestamp) as month\n",
    "from  `bigquery-public-data.crypto_ethereum.transactions`\n",
    "where receipt_status = 1\n",
    "group by extract(year from block_timestamp), extract(month from block_timestamp)) T\n",
    "\n",
    "\"\"\"\n",
    "\n",
    "query_job = client.query(query_7)\n",
    "iterator = query_job.result(timeout=50)\n",
    "rows = list(iterator)\n",
    "df_7 = pd.DataFrame(data=[list(x.values()) for x in rows], columns=list(rows[0].keys()))\n",
    "df_7.head()"
   ]
  },
  {
   "cell_type": "markdown",
   "id": "92a5a0e1",
   "metadata": {},
   "source": [
    "### <span style=\"color:red\">8. Average time between transactions sent</span>"
   ]
  },
  {
   "cell_type": "code",
   "execution_count": 25,
   "id": "0f283034",
   "metadata": {},
   "outputs": [
    {
     "data": {
      "text/html": [
       "<div>\n",
       "<style scoped>\n",
       "    .dataframe tbody tr th:only-of-type {\n",
       "        vertical-align: middle;\n",
       "    }\n",
       "\n",
       "    .dataframe tbody tr th {\n",
       "        vertical-align: top;\n",
       "    }\n",
       "\n",
       "    .dataframe thead th {\n",
       "        text-align: right;\n",
       "    }\n",
       "</style>\n",
       "<table border=\"1\" class=\"dataframe\">\n",
       "  <thead>\n",
       "    <tr style=\"text-align: right;\">\n",
       "      <th></th>\n",
       "      <th>avg_second_between_trans_sent</th>\n",
       "    </tr>\n",
       "  </thead>\n",
       "  <tbody>\n",
       "    <tr>\n",
       "      <th>0</th>\n",
       "      <td>0.0958</td>\n",
       "    </tr>\n",
       "  </tbody>\n",
       "</table>\n",
       "</div>"
      ],
      "text/plain": [
       "   avg_second_between_trans_sent\n",
       "0                         0.0958"
      ]
     },
     "execution_count": 25,
     "metadata": {},
     "output_type": "execute_result"
    }
   ],
   "source": [
    "query_8 = \"\"\"\n",
    "select round(avg(d),4) as avg_second_between_trans_sent\n",
    "from\n",
    "(select  TIMESTAMP_DIFF(lead(block_timestamp, 1) over(order by block_timestamp),block_timestamp, second) as d\n",
    "from `bigquery-public-data.crypto_ethereum.transactions`\n",
    "where receipt_status is not null)\n",
    "\n",
    "\"\"\"\n",
    "\n",
    "query_job = client.query(query_8)\n",
    "iterator = query_job.result(timeout=50)\n",
    "rows = list(iterator)\n",
    "df_8 = pd.DataFrame(data=[list(x.values()) for x in rows], columns=list(rows[0].keys()))\n",
    "df_8.head()"
   ]
  },
  {
   "cell_type": "markdown",
   "id": "b2095df1",
   "metadata": {},
   "source": [
    "### <span style=\"color:red\">9. Average time between transactions received</span>"
   ]
  },
  {
   "cell_type": "code",
   "execution_count": 26,
   "id": "3d973d36",
   "metadata": {},
   "outputs": [
    {
     "data": {
      "text/html": [
       "<div>\n",
       "<style scoped>\n",
       "    .dataframe tbody tr th:only-of-type {\n",
       "        vertical-align: middle;\n",
       "    }\n",
       "\n",
       "    .dataframe tbody tr th {\n",
       "        vertical-align: top;\n",
       "    }\n",
       "\n",
       "    .dataframe thead th {\n",
       "        text-align: right;\n",
       "    }\n",
       "</style>\n",
       "<table border=\"1\" class=\"dataframe\">\n",
       "  <thead>\n",
       "    <tr style=\"text-align: right;\">\n",
       "      <th></th>\n",
       "      <th>avg_second_between_trans_received</th>\n",
       "    </tr>\n",
       "  </thead>\n",
       "  <tbody>\n",
       "    <tr>\n",
       "      <th>0</th>\n",
       "      <td>0.0989</td>\n",
       "    </tr>\n",
       "  </tbody>\n",
       "</table>\n",
       "</div>"
      ],
      "text/plain": [
       "   avg_second_between_trans_received\n",
       "0                             0.0989"
      ]
     },
     "execution_count": 26,
     "metadata": {},
     "output_type": "execute_result"
    }
   ],
   "source": [
    "query_9 = \"\"\"\n",
    "select round(avg(d),4) as avg_second_between_trans_received\n",
    "from\n",
    "(select  TIMESTAMP_DIFF(lead(block_timestamp, 1) over(order by block_timestamp),block_timestamp, second) as d\n",
    "from `bigquery-public-data.crypto_ethereum.transactions`\n",
    "where receipt_status = 1)\n",
    "\n",
    "\"\"\"\n",
    "\n",
    "query_job = client.query(query_9)\n",
    "iterator = query_job.result(timeout=50)\n",
    "rows = list(iterator)\n",
    "df_9 = pd.DataFrame(data=[list(x.values()) for x in rows], columns=list(rows[0].keys()))\n",
    "df_9.head()"
   ]
  },
  {
   "cell_type": "markdown",
   "id": "8126e097",
   "metadata": {},
   "source": [
    "### <span style=\"color:red\">10. STD of time between transactions sent</span>"
   ]
  },
  {
   "cell_type": "code",
   "execution_count": 29,
   "id": "022068e9",
   "metadata": {},
   "outputs": [
    {
     "data": {
      "text/html": [
       "<div>\n",
       "<style scoped>\n",
       "    .dataframe tbody tr th:only-of-type {\n",
       "        vertical-align: middle;\n",
       "    }\n",
       "\n",
       "    .dataframe tbody tr th {\n",
       "        vertical-align: top;\n",
       "    }\n",
       "\n",
       "    .dataframe thead th {\n",
       "        text-align: right;\n",
       "    }\n",
       "</style>\n",
       "<table border=\"1\" class=\"dataframe\">\n",
       "  <thead>\n",
       "    <tr style=\"text-align: right;\">\n",
       "      <th></th>\n",
       "      <th>STD_second_between_trans_sent</th>\n",
       "    </tr>\n",
       "  </thead>\n",
       "  <tbody>\n",
       "    <tr>\n",
       "      <th>0</th>\n",
       "      <td>1.5741</td>\n",
       "    </tr>\n",
       "  </tbody>\n",
       "</table>\n",
       "</div>"
      ],
      "text/plain": [
       "   STD_second_between_trans_sent\n",
       "0                         1.5741"
      ]
     },
     "execution_count": 29,
     "metadata": {},
     "output_type": "execute_result"
    }
   ],
   "source": [
    "query_10 = \"\"\"\n",
    "select round(stddev(d),4) as STD_second_between_trans_sent\n",
    "from\n",
    "(select  TIMESTAMP_DIFF(lead(block_timestamp, 1) over(order by block_timestamp),block_timestamp, second) as d\n",
    "from `bigquery-public-data.crypto_ethereum.transactions`\n",
    "where receipt_status is not null)\n",
    "\n",
    "\"\"\"\n",
    "\n",
    "query_job = client.query(query_10)\n",
    "iterator = query_job.result(timeout=100)\n",
    "rows = list(iterator)\n",
    "df_10 = pd.DataFrame(data=[list(x.values()) for x in rows], columns=list(rows[0].keys()))\n",
    "df_10.head()"
   ]
  },
  {
   "cell_type": "markdown",
   "id": "44632289",
   "metadata": {},
   "source": [
    "### <span style=\"color:red\">11. STD of time between transactions received</span>"
   ]
  },
  {
   "cell_type": "code",
   "execution_count": 30,
   "id": "509c45f3",
   "metadata": {},
   "outputs": [
    {
     "data": {
      "text/html": [
       "<div>\n",
       "<style scoped>\n",
       "    .dataframe tbody tr th:only-of-type {\n",
       "        vertical-align: middle;\n",
       "    }\n",
       "\n",
       "    .dataframe tbody tr th {\n",
       "        vertical-align: top;\n",
       "    }\n",
       "\n",
       "    .dataframe thead th {\n",
       "        text-align: right;\n",
       "    }\n",
       "</style>\n",
       "<table border=\"1\" class=\"dataframe\">\n",
       "  <thead>\n",
       "    <tr style=\"text-align: right;\">\n",
       "      <th></th>\n",
       "      <th>STD_second_between_trans_received</th>\n",
       "    </tr>\n",
       "  </thead>\n",
       "  <tbody>\n",
       "    <tr>\n",
       "      <th>0</th>\n",
       "      <td>1.5989</td>\n",
       "    </tr>\n",
       "  </tbody>\n",
       "</table>\n",
       "</div>"
      ],
      "text/plain": [
       "   STD_second_between_trans_received\n",
       "0                             1.5989"
      ]
     },
     "execution_count": 30,
     "metadata": {},
     "output_type": "execute_result"
    }
   ],
   "source": [
    "query_11 = \"\"\"\n",
    "select round(stddev(d),4) as STD_second_between_trans_received\n",
    "from\n",
    "(select  TIMESTAMP_DIFF(lead(block_timestamp, 1) over(order by block_timestamp),block_timestamp, second) as d\n",
    "from `bigquery-public-data.crypto_ethereum.transactions`\n",
    "where receipt_status = 1)\n",
    "\n",
    "\"\"\"\n",
    "\n",
    "query_job = client.query(query_11)\n",
    "iterator = query_job.result(timeout=50)\n",
    "rows = list(iterator)\n",
    "df_11 = pd.DataFrame(data=[list(x.values()) for x in rows], columns=list(rows[0].keys()))\n",
    "df_11.head()"
   ]
  },
  {
   "cell_type": "markdown",
   "id": "e0702f45",
   "metadata": {},
   "source": [
    "### <span style=\"color:red\">12. Active months</span>"
   ]
  },
  {
   "cell_type": "code",
   "execution_count": 33,
   "id": "614c2613",
   "metadata": {},
   "outputs": [
    {
     "data": {
      "text/html": [
       "<div>\n",
       "<style scoped>\n",
       "    .dataframe tbody tr th:only-of-type {\n",
       "        vertical-align: middle;\n",
       "    }\n",
       "\n",
       "    .dataframe tbody tr th {\n",
       "        vertical-align: top;\n",
       "    }\n",
       "\n",
       "    .dataframe thead th {\n",
       "        text-align: right;\n",
       "    }\n",
       "</style>\n",
       "<table border=\"1\" class=\"dataframe\">\n",
       "  <thead>\n",
       "    <tr style=\"text-align: right;\">\n",
       "      <th></th>\n",
       "      <th>the_most_3_active_months</th>\n",
       "    </tr>\n",
       "  </thead>\n",
       "  <tbody>\n",
       "    <tr>\n",
       "      <th>0</th>\n",
       "      <td>5</td>\n",
       "    </tr>\n",
       "    <tr>\n",
       "      <th>1</th>\n",
       "      <td>1</td>\n",
       "    </tr>\n",
       "    <tr>\n",
       "      <th>2</th>\n",
       "      <td>4</td>\n",
       "    </tr>\n",
       "  </tbody>\n",
       "</table>\n",
       "</div>"
      ],
      "text/plain": [
       "   the_most_3_active_months\n",
       "0                         5\n",
       "1                         1\n",
       "2                         4"
      ]
     },
     "execution_count": 33,
     "metadata": {},
     "output_type": "execute_result"
    }
   ],
   "source": [
    "# The most 3 active months\n",
    "\n",
    "query_12 = \"\"\"\n",
    "select months as the_most_3_active_months\n",
    "from\n",
    "(select count(`bigquery-public-data.crypto_ethereum.transactions`.hash) as count_transactions_received, extract(month from block_timestamp) as months\n",
    "from  `bigquery-public-data.crypto_ethereum.transactions`\n",
    "where receipt_status = 1\n",
    "group by extract(month from block_timestamp)) T\n",
    "order by count_transactions_received desc\n",
    "limit 3\n",
    "\n",
    "\"\"\"\n",
    "\n",
    "query_job = client.query(query_12)\n",
    "iterator = query_job.result(timeout=50)\n",
    "rows = list(iterator)\n",
    "df_12 = pd.DataFrame(data=[list(x.values()) for x in rows], columns=list(rows[0].keys()))\n",
    "df_12"
   ]
  },
  {
   "cell_type": "markdown",
   "id": "7ba22613",
   "metadata": {},
   "source": [
    "### <span style=\"color:red\">13. ETH balance</span>"
   ]
  },
  {
   "cell_type": "code",
   "execution_count": 36,
   "id": "653eafa2",
   "metadata": {},
   "outputs": [
    {
     "data": {
      "text/html": [
       "<div>\n",
       "<style scoped>\n",
       "    .dataframe tbody tr th:only-of-type {\n",
       "        vertical-align: middle;\n",
       "    }\n",
       "\n",
       "    .dataframe tbody tr th {\n",
       "        vertical-align: top;\n",
       "    }\n",
       "\n",
       "    .dataframe thead th {\n",
       "        text-align: right;\n",
       "    }\n",
       "</style>\n",
       "<table border=\"1\" class=\"dataframe\">\n",
       "  <thead>\n",
       "    <tr style=\"text-align: right;\">\n",
       "      <th></th>\n",
       "      <th>to_address</th>\n",
       "      <th>ETH_balance</th>\n",
       "    </tr>\n",
       "  </thead>\n",
       "  <tbody>\n",
       "    <tr>\n",
       "      <th>0</th>\n",
       "      <td>0x3f5ce5fbfe3e9af3971dd833d26ba9b5c936f0be</td>\n",
       "      <td>160873160.44</td>\n",
       "    </tr>\n",
       "    <tr>\n",
       "      <th>1</th>\n",
       "      <td>0x876eabf441b2ee5b5b0554fd502a8e0600950cfa</td>\n",
       "      <td>72218720.13</td>\n",
       "    </tr>\n",
       "    <tr>\n",
       "      <th>2</th>\n",
       "      <td>0x7a250d5630b4cf539739df2c5dacb4c659f2488d</td>\n",
       "      <td>69848551.61</td>\n",
       "    </tr>\n",
       "    <tr>\n",
       "      <th>3</th>\n",
       "      <td>0xfa52274dd61e1643d2205169732f29114bc240b3</td>\n",
       "      <td>43872142.07</td>\n",
       "    </tr>\n",
       "    <tr>\n",
       "      <th>4</th>\n",
       "      <td>0x28c6c06298d514db089934071355e5743bf21d60</td>\n",
       "      <td>43838250.98</td>\n",
       "    </tr>\n",
       "    <tr>\n",
       "      <th>5</th>\n",
       "      <td>0xd551234ae421e3bcba99a0da6d736074f22192ff</td>\n",
       "      <td>31616623.32</td>\n",
       "    </tr>\n",
       "    <tr>\n",
       "      <th>6</th>\n",
       "      <td>0x0681d8db095565fe8a346fa0277bffde9c0edbbf</td>\n",
       "      <td>31573407.21</td>\n",
       "    </tr>\n",
       "    <tr>\n",
       "      <th>7</th>\n",
       "      <td>0x564286362092d8e7936f0549571a803b203aaced</td>\n",
       "      <td>31083367.28</td>\n",
       "    </tr>\n",
       "    <tr>\n",
       "      <th>8</th>\n",
       "      <td>0xc02aaa39b223fe8d0a0e5c4f27ead9083c756cc2</td>\n",
       "      <td>29944896.36</td>\n",
       "    </tr>\n",
       "    <tr>\n",
       "      <th>9</th>\n",
       "      <td>0xa7efae728d2936e78bda97dc267687568dd593f3</td>\n",
       "      <td>27139962.49</td>\n",
       "    </tr>\n",
       "  </tbody>\n",
       "</table>\n",
       "</div>"
      ],
      "text/plain": [
       "                                   to_address   ETH_balance\n",
       "0  0x3f5ce5fbfe3e9af3971dd833d26ba9b5c936f0be  160873160.44\n",
       "1  0x876eabf441b2ee5b5b0554fd502a8e0600950cfa   72218720.13\n",
       "2  0x7a250d5630b4cf539739df2c5dacb4c659f2488d   69848551.61\n",
       "3  0xfa52274dd61e1643d2205169732f29114bc240b3   43872142.07\n",
       "4  0x28c6c06298d514db089934071355e5743bf21d60   43838250.98\n",
       "5  0xd551234ae421e3bcba99a0da6d736074f22192ff   31616623.32\n",
       "6  0x0681d8db095565fe8a346fa0277bffde9c0edbbf   31573407.21\n",
       "7  0x564286362092d8e7936f0549571a803b203aaced   31083367.28\n",
       "8  0xc02aaa39b223fe8d0a0e5c4f27ead9083c756cc2   29944896.36\n",
       "9  0xa7efae728d2936e78bda97dc267687568dd593f3   27139962.49"
      ]
     },
     "execution_count": 36,
     "metadata": {},
     "output_type": "execute_result"
    }
   ],
   "source": [
    "# ETH balance by addresses (the biggest 10 balances)\n",
    "\n",
    "query_13 = \"\"\"\n",
    "select to_address, sum(round((value/1000000000000000000),2)) as ETH_balance\n",
    "from  `bigquery-public-data.crypto_ethereum.transactions`\n",
    "where receipt_status = 1\n",
    "group by to_address\n",
    "order by ETH_balance desc\n",
    "limit 10\n",
    "\n",
    "\"\"\"\n",
    "\n",
    "query_job = client.query(query_13)\n",
    "iterator = query_job.result(timeout=50)\n",
    "rows = list(iterator)\n",
    "df_13 = pd.DataFrame(data=[list(x.values()) for x in rows], columns=list(rows[0].keys()))\n",
    "df_13"
   ]
  },
  {
   "cell_type": "code",
   "execution_count": null,
   "id": "e59da528",
   "metadata": {},
   "outputs": [],
   "source": []
  }
 ],
 "metadata": {
  "kernelspec": {
   "display_name": "Python 3 (ipykernel)",
   "language": "python",
   "name": "python3"
  },
  "language_info": {
   "codemirror_mode": {
    "name": "ipython",
    "version": 3
   },
   "file_extension": ".py",
   "mimetype": "text/x-python",
   "name": "python",
   "nbconvert_exporter": "python",
   "pygments_lexer": "ipython3",
   "version": "3.10.4"
  }
 },
 "nbformat": 4,
 "nbformat_minor": 5
}
